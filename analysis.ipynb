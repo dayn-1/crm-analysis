{
 "cells": [
  {
   "cell_type": "code",
   "execution_count": 1,
   "metadata": {},
   "outputs": [
    {
     "name": "stderr",
     "output_type": "stream",
     "text": [
      "/Users/dayn/anaconda3/lib/python3.11/site-packages/torch/_utils.py:831: UserWarning: TypedStorage is deprecated. It will be removed in the future and UntypedStorage will be the only storage class. This should only matter to you if you are using storages directly.  To access UntypedStorage directly, use tensor.untyped_storage() instead of tensor.storage()\n",
      "  return self.fget.__get__(instance, owner)()\n"
     ]
    }
   ],
   "source": [
    "%run functions.py\n",
    "%run models.py"
   ]
  },
  {
   "cell_type": "code",
   "execution_count": 2,
   "metadata": {},
   "outputs": [],
   "source": [
    "from datasets import load_dataset\n",
    "\n",
    "ds = load_dataset(\"goendalf666/sales-conversations-instruction-customer\")"
   ]
  },
  {
   "cell_type": "code",
   "execution_count": 3,
   "metadata": {},
   "outputs": [],
   "source": [
    "full_ds = keep_full_convos(ds)"
   ]
  },
  {
   "cell_type": "code",
   "execution_count": 4,
   "metadata": {},
   "outputs": [],
   "source": [
    "train_set, test_set = split_train_test(full_ds)"
   ]
  },
  {
   "cell_type": "code",
   "execution_count": 5,
   "metadata": {},
   "outputs": [
    {
     "data": {
      "text/plain": [
       "['Customer: Can you please explain to me how this product works? Salesman: Certainly! This product is designed to simplify your workflow by automating repetitive tasks. It uses advanced algorithms to analyze data and generate actionable insights, saving you time and effort. Customer: Im not sure if this service is worth the price. Can you explain its benefits to me? Salesman: Absolutely! This service offers numerous benefits, such as increased productivity, improved efficiency, and cost savings. It integrates seamlessly with your existing systems and provides real-time analytics, allowing you to make data-driven decisions and stay ahead of the competition. Customer: I have a limited technical background. Can you explain this feature in simpler terms? Salesman: Of course! Let me break it down for you. This feature essentially streamlines your customer support process by automating ticket management and routing. It ensures that customer inquiries are efficiently handled and assigned to the most appropriate team member, resulting in faster response times and improved customer satisfaction. Customer: Im overwhelmed with all the information. Can you give me a concise summary of the benefits? Salesman: Absolutely! This product offers time savings, increased efficiency, and improved decision-making through advanced analytics. It simplifies your processes and helps you stay competitive in todays fast-paced business environment. Customer: Can you give me an example of how this software can benefit my team? Salesman: Certainly! Imagine your team spends hours manually generating reports. With our software, you can automate this process, saving valuable time and reducing the risk of human error. This allows your team to focus on more strategic tasks and make better-informed decisions based on accurate and up-to-date data. \\n\\n                    Answer as a Customer to the Salesman.\\n                    Customer: Im concerned about the learning curve. Can you reassure me that its easy to use?',\n",
       " 'Customer: Im interested in your product, but I dont have much time. Can you give me a concise overview? Salesman: Of course! Our product is designed to streamline processes and increase efficiency. It offers a user-friendly interface with advanced features. Would you like me to provide more details? Customer: Im comparing different options. Can you highlight the key points that differentiate your product? Salesman: Certainly! Our product stands out for its scalability, customizable features, and exceptional customer support. These factors make it a reliable and flexible solution for businesses of all sizes. Customer: Im not very tech-savvy. Can you explain the product in simple terms? Salesman: Absolutely! Our product simplifies complex tasks by automating processes and providing intuitive navigation. You dont need any technical expertise to use it effectively. Customer: Im interested in your product, but I want to make sure it meets my requirements. How can I be sure? Salesman: I completely understand your concern. Lets go over your specific requirements, and Ill demonstrate how our product addresses them. This way, you can make an informed decision based on your needs. Customer: Im looking for a solution that offers tangible results. How can your product deliver that? Salesman: Great question! Our product has a proven track record of helping businesses increase productivity by X% and reduce costs by X%. We have case studies and testimonials to support these claims. \\n\\n                    Answer as a Customer to the Salesman.\\n                    Customer: Im not sure if your product is the right fit. Can you summarize the benefits for me?',\n",
       " 'Customer: Hi, Im interested in learning more about your tech product. Can you tell me about its features? Salesman: Absolutely! Our tech product offers a wide range of features that cater to different needs. It has advanced security measures, seamless integration with various platforms, and a user-friendly interface. Customer: Im not very tech-savvy. Will I be able to use your software without any difficulties? Salesman: Definitely! Our software is designed to be user-friendly and accessible to all levels of technical expertise. We have a dedicated support team that can assist you with any questions or concerns along the way. Customer: Ive heard mixed reviews about your company. Can you provide any evidence or statistics that prove the value of your product? Salesman: Certainly! We have conducted extensive research and customer satisfaction surveys that consistently show positive results. Additionally, we have a portfolio of successful case studies that demonstrate the tangible benefits our product has provided to our clients. Customer: Im concerned about the price of your tech product. Is it worth the investment? Salesman: I understand your concerns about pricing. Let me explain the value proposition of our product. By investing in our tech product, youll gain access to a wide range of features and benefits that will significantly streamline your operations and increase your productivity. The return on investment is often realized in a relatively short time. Customer: Im not sure if your tech product is the right fit for my specific industry. Can you provide any examples of how it has been successfully utilized in similar industries? Salesman: Absolutely! We have worked with various industries, including tech, healthcare, finance, and manufacturing, to name a few. Our product has consistently delivered positive results and improved efficiency across these sectors. I can provide you with specific case studies and testimonials from clients in your industry to showcase its effectiveness. \\n\\n                    Answer as a Customer to the Salesman.\\n                    Customer: I have some concerns about the security of your software. How can you assure me that its secure?',\n",
       " 'Customer: Im interested in this new health product. Can you tell me more about it? Salesman: Certainly! This health product is designed to improve overall well-being and boost energy levels. It contains a unique blend of natural ingredients that have been scientifically proven to have various health benefits. Customer: Im not very familiar with scientific terms. Could you explain in simpler terms how this product works? Salesman: Absolutely! This product works by providing essential nutrients and antioxidants to support your bodys natural functions. It helps to promote a healthy immune system, improve digestion, and increase vitality. Customer: I come from a culture where hierarchy is important in conversation. How should I approach discussing this product with my elders? Salesman: Thats a great question! In conversations with elders, its important to show respect and use a formal tone. You can emphasize the benefits of the product while being polite and attentive to their preferences. Its also essential to listen actively and give them space to share their thoughts. Customer: I prefer a more direct and straightforward approach. Can you provide me with the key facts and benefits of this product? Salesman: Absolutely! This product has been clinically tested and shown to improve energy levels, support mental clarity, and promote better sleep. Its made from all-natural ingredients and is free from any artificial additives or preservatives. Customer: I appreciate a warm and friendly approach. How can you make the conversation more personable? Salesman: Of course! Im here to help and answer any questions you may have. I understand that trying a new health product can be exciting, and Im here to support you throughout your journey. Feel free to ask me anything, and Ill do my best to assist you. \\n\\n                    Answer as a Customer to the Salesman.\\n                    Customer: Ive heard mixed reviews about this product. How can you address any concerns or doubts I may have?',\n",
       " 'Customer: Im looking for a financial product that can help me save for retirement. Salesman: Thats great to hear! Could you tell me a bit more about your current financial situation and your long-term goals? Customer: Im interested in investing in the stock market, but Im not sure where to start. Salesman: Id be happy to help you with that. Could you share your level of experience with investing and what your objectives are? Customer: Im considering applying for a loan to start a business. What information do you need from me? Salesman: Thank you for considering our services. Can you provide some details about your business plan and your financial projections? Customer: Im in the market for a new car, but Im not sure if I can afford it. What should I consider? Salesman: I can assist you with that. Could you give me an idea of your budget and any specific features youre looking for in a car? Customer: Ive been having trouble managing my personal finances and saving money. Any advice? Salesman: Id be happy to offer some guidance. Can you tell me more about your spending habits and financial goals? \\n\\n                    Answer as a Customer to the Salesman.\\n                    Customer: I want to start investing in real estate. What should I know before getting started?']"
      ]
     },
     "execution_count": 5,
     "metadata": {},
     "output_type": "execute_result"
    }
   ],
   "source": [
    "train_set[:5]"
   ]
  },
  {
   "cell_type": "code",
   "execution_count": 6,
   "metadata": {},
   "outputs": [],
   "source": [
    "test = train_set[0]"
   ]
  },
  {
   "cell_type": "code",
   "execution_count": 7,
   "metadata": {},
   "outputs": [],
   "source": [
    "dict_test = split_cust_sales(test)"
   ]
  },
  {
   "cell_type": "code",
   "execution_count": 8,
   "metadata": {},
   "outputs": [],
   "source": [
    "full_text_cust, full_text_sales = dict_test['full']\n",
    "split_text_cust, split_text_sales = dict_test['split']"
   ]
  },
  {
   "cell_type": "code",
   "execution_count": 9,
   "metadata": {},
   "outputs": [
    {
     "name": "stdout",
     "output_type": "stream",
     "text": [
      "Before: Customer says to salesman: Certainly! This product is designed to simplify your workflow by automating repetitive tasks. It uses advanced algorithms to analyze data and generate actionable insights, saving you time and effort.\n",
      "Absolutely! This service offers numerous benefits, such as increased productivity, improved efficiency, and cost savings. It integrates seamlessly with your existing systems and provides real-time analytics, allowing you to make data-driven decisions and stay ahead of the competition.\n",
      "Of course! Let me break it down for you. This feature essentially streamlines your customer support process by automating ticket management and routing. It ensures that customer inquiries are efficiently handled and assigned to the most appropriate team member, resulting in faster response times and improved customer satisfaction.\n",
      "Absolutely! This product offers time savings, increased efficiency, and improved decision-making through advanced analytics. It simplifies your processes and helps you stay competitive in todays fast-paced business environment.\n",
      "Certainly! Imagine your team spends hours manually generating reports. With our software, you can automate this process, saving valuable time and reducing the risk of human error. This allows your team to focus on more strategic tasks and make better-informed decisions based on accurate and up-to-date data. \n",
      "\n",
      "                    Answer as a Customer to the Salesman.\n",
      "-------\n",
      "After: Customer says to the salesman: Certainly! This product is designed to simplify your workflow by automating repetitive tasks. It provides real-time analytics and helps you stay ahead of the competition. It also streamlines the customer support process by managing ticket management and routing.\n"
     ]
    }
   ],
   "source": [
    "print(\"Before:\", full_text_cust)\n",
    "print(\"-------\")\n",
    "print(\"After:\", summarise(full_text_cust))"
   ]
  },
  {
   "cell_type": "code",
   "execution_count": 10,
   "metadata": {},
   "outputs": [
    {
     "data": {
      "text/plain": [
       "['Certainly! This product is designed to simplify your workflow by automating repetitive tasks. It uses advanced algorithms to analyze data and generate actionable insights, saving you time and effort.',\n",
       " 'Absolutely! This service offers numerous benefits, such as increased productivity, improved efficiency, and cost savings. It integrates seamlessly with your existing systems and provides real-time analytics, allowing you to make data-driven decisions and stay ahead of the competition.',\n",
       " 'Of course! Let me break it down for you. This feature essentially streamlines your customer support process by automating ticket management and routing. It ensures that customer inquiries are efficiently handled and assigned to the most appropriate team member, resulting in faster response times and improved customer satisfaction.',\n",
       " 'Absolutely! This product offers time savings, increased efficiency, and improved decision-making through advanced analytics. It simplifies your processes and helps you stay competitive in todays fast-paced business environment.',\n",
       " 'Certainly! Imagine your team spends hours manually generating reports. With our software, you can automate this process, saving valuable time and reducing the risk of human error. This allows your team to focus on more strategic tasks and make better-informed decisions based on accurate and up-to-date data. \\n\\n                    Answer as a Customer to the Salesman.']"
      ]
     },
     "execution_count": 10,
     "metadata": {},
     "output_type": "execute_result"
    }
   ],
   "source": [
    "split_text_cust"
   ]
  },
  {
   "cell_type": "code",
   "execution_count": 11,
   "metadata": {},
   "outputs": [
    {
     "name": "stdout",
     "output_type": "stream",
     "text": [
      "Certainly! This product is designed to simplify your workflow by automating repetitive tasks. It uses advanced algorithms to analyze data and generate actionable insights, saving you time and effort. | Prediction: neutral\n",
      "Absolutely! This service offers numerous benefits, such as increased productivity, improved efficiency, and cost savings. It integrates seamlessly with your existing systems and provides real-time analytics, allowing you to make data-driven decisions and stay ahead of the competition. | Prediction: neutral\n",
      "Of course! Let me break it down for you. This feature essentially streamlines your customer support process by automating ticket management and routing. It ensures that customer inquiries are efficiently handled and assigned to the most appropriate team member, resulting in faster response times and improved customer satisfaction. | Prediction: neutral\n",
      "Absolutely! This product offers time savings, increased efficiency, and improved decision-making through advanced analytics. It simplifies your processes and helps you stay competitive in todays fast-paced business environment. | Prediction: neutral\n",
      "Certainly! Imagine your team spends hours manually generating reports. With our software, you can automate this process, saving valuable time and reducing the risk of human error. This allows your team to focus on more strategic tasks and make better-informed decisions based on accurate and up-to-date data. \n",
      "\n",
      "                    Answer as a Customer to the Salesman. | Prediction: neutral\n"
     ]
    }
   ],
   "source": [
    "for line in split_text_cust:\n",
    "    print(f\"{line} | Prediction: {analyze_sentiment(line)}\")"
   ]
  },
  {
   "cell_type": "code",
   "execution_count": 12,
   "metadata": {},
   "outputs": [
    {
     "data": {
      "text/plain": [
       "'Automated repetitive tasks, advanced algorithms, data analysis, productivity, efficiency, cost savings, real-time analytics, data-driven decisions, customer support process, ticket management, customer inquiries, faster response times, customer satisfaction,'"
      ]
     },
     "execution_count": 12,
     "metadata": {},
     "output_type": "execute_result"
    }
   ],
   "source": [
    "extract_keywords(full_text_cust)"
   ]
  },
  {
   "cell_type": "code",
   "execution_count": 13,
   "metadata": {},
   "outputs": [
    {
     "data": {
      "text/plain": [
       "['Customer: Can you please explain to me how this product works? Salesman: Certainly! This product is designed to simplify your workflow by automating repetitive tasks. It uses advanced algorithms to analyze data and generate actionable insights, saving you time and effort. Customer: Im not sure if this service is worth the price. Can you explain its benefits to me? Salesman: Absolutely! This service offers numerous benefits, such as increased productivity, improved efficiency, and cost savings. It integrates seamlessly with your existing systems and provides real-time analytics, allowing you to make data-driven decisions and stay ahead of the competition. Customer: I have a limited technical background. Can you explain this feature in simpler terms? Salesman: Of course! Let me break it down for you. This feature essentially streamlines your customer support process by automating ticket management and routing. It ensures that customer inquiries are efficiently handled and assigned to the most appropriate team member, resulting in faster response times and improved customer satisfaction. Customer: Im overwhelmed with all the information. Can you give me a concise summary of the benefits? Salesman: Absolutely! This product offers time savings, increased efficiency, and improved decision-making through advanced analytics. It simplifies your processes and helps you stay competitive in todays fast-paced business environment. Customer: Can you give me an example of how this software can benefit my team? Salesman: Certainly! Imagine your team spends hours manually generating reports. With our software, you can automate this process, saving valuable time and reducing the risk of human error. This allows your team to focus on more strategic tasks and make better-informed decisions based on accurate and up-to-date data. \\n\\n                    Answer as a Customer to the Salesman.\\n                    Customer: Im concerned about the learning curve. Can you reassure me that its easy to use?',\n",
       " 'Customer: Im interested in your product, but I dont have much time. Can you give me a concise overview? Salesman: Of course! Our product is designed to streamline processes and increase efficiency. It offers a user-friendly interface with advanced features. Would you like me to provide more details? Customer: Im comparing different options. Can you highlight the key points that differentiate your product? Salesman: Certainly! Our product stands out for its scalability, customizable features, and exceptional customer support. These factors make it a reliable and flexible solution for businesses of all sizes. Customer: Im not very tech-savvy. Can you explain the product in simple terms? Salesman: Absolutely! Our product simplifies complex tasks by automating processes and providing intuitive navigation. You dont need any technical expertise to use it effectively. Customer: Im interested in your product, but I want to make sure it meets my requirements. How can I be sure? Salesman: I completely understand your concern. Lets go over your specific requirements, and Ill demonstrate how our product addresses them. This way, you can make an informed decision based on your needs. Customer: Im looking for a solution that offers tangible results. How can your product deliver that? Salesman: Great question! Our product has a proven track record of helping businesses increase productivity by X% and reduce costs by X%. We have case studies and testimonials to support these claims. \\n\\n                    Answer as a Customer to the Salesman.\\n                    Customer: Im not sure if your product is the right fit. Can you summarize the benefits for me?',\n",
       " 'Customer: Hi, Im interested in learning more about your tech product. Can you tell me about its features? Salesman: Absolutely! Our tech product offers a wide range of features that cater to different needs. It has advanced security measures, seamless integration with various platforms, and a user-friendly interface. Customer: Im not very tech-savvy. Will I be able to use your software without any difficulties? Salesman: Definitely! Our software is designed to be user-friendly and accessible to all levels of technical expertise. We have a dedicated support team that can assist you with any questions or concerns along the way. Customer: Ive heard mixed reviews about your company. Can you provide any evidence or statistics that prove the value of your product? Salesman: Certainly! We have conducted extensive research and customer satisfaction surveys that consistently show positive results. Additionally, we have a portfolio of successful case studies that demonstrate the tangible benefits our product has provided to our clients. Customer: Im concerned about the price of your tech product. Is it worth the investment? Salesman: I understand your concerns about pricing. Let me explain the value proposition of our product. By investing in our tech product, youll gain access to a wide range of features and benefits that will significantly streamline your operations and increase your productivity. The return on investment is often realized in a relatively short time. Customer: Im not sure if your tech product is the right fit for my specific industry. Can you provide any examples of how it has been successfully utilized in similar industries? Salesman: Absolutely! We have worked with various industries, including tech, healthcare, finance, and manufacturing, to name a few. Our product has consistently delivered positive results and improved efficiency across these sectors. I can provide you with specific case studies and testimonials from clients in your industry to showcase its effectiveness. \\n\\n                    Answer as a Customer to the Salesman.\\n                    Customer: I have some concerns about the security of your software. How can you assure me that its secure?',\n",
       " 'Customer: Im interested in this new health product. Can you tell me more about it? Salesman: Certainly! This health product is designed to improve overall well-being and boost energy levels. It contains a unique blend of natural ingredients that have been scientifically proven to have various health benefits. Customer: Im not very familiar with scientific terms. Could you explain in simpler terms how this product works? Salesman: Absolutely! This product works by providing essential nutrients and antioxidants to support your bodys natural functions. It helps to promote a healthy immune system, improve digestion, and increase vitality. Customer: I come from a culture where hierarchy is important in conversation. How should I approach discussing this product with my elders? Salesman: Thats a great question! In conversations with elders, its important to show respect and use a formal tone. You can emphasize the benefits of the product while being polite and attentive to their preferences. Its also essential to listen actively and give them space to share their thoughts. Customer: I prefer a more direct and straightforward approach. Can you provide me with the key facts and benefits of this product? Salesman: Absolutely! This product has been clinically tested and shown to improve energy levels, support mental clarity, and promote better sleep. Its made from all-natural ingredients and is free from any artificial additives or preservatives. Customer: I appreciate a warm and friendly approach. How can you make the conversation more personable? Salesman: Of course! Im here to help and answer any questions you may have. I understand that trying a new health product can be exciting, and Im here to support you throughout your journey. Feel free to ask me anything, and Ill do my best to assist you. \\n\\n                    Answer as a Customer to the Salesman.\\n                    Customer: Ive heard mixed reviews about this product. How can you address any concerns or doubts I may have?',\n",
       " 'Customer: Im looking for a financial product that can help me save for retirement. Salesman: Thats great to hear! Could you tell me a bit more about your current financial situation and your long-term goals? Customer: Im interested in investing in the stock market, but Im not sure where to start. Salesman: Id be happy to help you with that. Could you share your level of experience with investing and what your objectives are? Customer: Im considering applying for a loan to start a business. What information do you need from me? Salesman: Thank you for considering our services. Can you provide some details about your business plan and your financial projections? Customer: Im in the market for a new car, but Im not sure if I can afford it. What should I consider? Salesman: I can assist you with that. Could you give me an idea of your budget and any specific features youre looking for in a car? Customer: Ive been having trouble managing my personal finances and saving money. Any advice? Salesman: Id be happy to offer some guidance. Can you tell me more about your spending habits and financial goals? \\n\\n                    Answer as a Customer to the Salesman.\\n                    Customer: I want to start investing in real estate. What should I know before getting started?']"
      ]
     },
     "execution_count": 13,
     "metadata": {},
     "output_type": "execute_result"
    }
   ],
   "source": [
    "train_set[:5]"
   ]
  },
  {
   "cell_type": "code",
   "execution_count": 14,
   "metadata": {},
   "outputs": [
    {
     "name": "stderr",
     "output_type": "stream",
     "text": [
      "/Users/dayn/anaconda3/lib/python3.11/site-packages/sklearn/cluster/_kmeans.py:1412: FutureWarning: The default value of `n_init` will change from 10 to 'auto' in 1.4. Set the value of `n_init` explicitly to suppress the warning\n",
      "  super()._check_params_vs_input(X, default_n_init=10)\n",
      "huggingface/tokenizers: The current process just got forked, after parallelism has already been used. Disabling parallelism to avoid deadlocks...\n",
      "To disable this warning, you can either:\n",
      "\t- Avoid using `tokenizers` before the fork if possible\n",
      "\t- Explicitly set the environment variable TOKENIZERS_PARALLELISM=(true | false)\n"
     ]
    },
    {
     "name": "stdout",
     "output_type": "stream",
     "text": [
      "                                           Conversation  Cluster\n",
      "0     Customer: Can you please explain to me how thi...        1\n",
      "1     Customer: Im interested in your product, but I...        1\n",
      "2     Customer: Hi, Im interested in learning more a...        1\n",
      "3     Customer: Im interested in this new health pro...        2\n",
      "4     Customer: Im looking for a financial product t...        0\n",
      "...                                                 ...      ...\n",
      "2723  Customer: Im interested in your financial prod...        0\n",
      "2724  Customer: Im interested in your health supplem...        2\n",
      "2725  Customer: Hi, Im interested in your health pro...        2\n",
      "2726  Customer: Hi, Im looking for a new health supp...        2\n",
      "2727  Customer: Im interested in your product, but I...        1\n",
      "\n",
      "[2728 rows x 2 columns]\n"
     ]
    }
   ],
   "source": [
    "import pandas as pd\n",
    "from sklearn.feature_extraction.text import TfidfVectorizer\n",
    "from sklearn.cluster import KMeans\n",
    "from nltk.corpus import stopwords\n",
    "from nltk.tokenize import word_tokenize\n",
    "import string\n",
    "\n",
    "# Sample dataset of conversations\n",
    "data = train_set\n",
    "\n",
    "# Preprocessing function\n",
    "def preprocess_text(text):\n",
    "    # Tokenize text\n",
    "    tokens = word_tokenize(text.lower())\n",
    "    \n",
    "    # Remove stopwords and punctuation\n",
    "    stop_words = set(stopwords.words('english'))\n",
    "    tokens = [token for token in tokens if token not in stop_words and token not in string.punctuation]\n",
    "    \n",
    "    # Join tokens back into a string\n",
    "    processed_text = ' '.join(tokens)\n",
    "    \n",
    "    return processed_text\n",
    "\n",
    "# Preprocess each conversation\n",
    "processed_data = [preprocess_text(conv) for conv in data]\n",
    "\n",
    "# TF-IDF Vectorization\n",
    "vectorizer = TfidfVectorizer()\n",
    "X = vectorizer.fit_transform(processed_data)\n",
    "\n",
    "# Clustering with K-means\n",
    "num_clusters = 3  # Number of clusters (you can adjust this)\n",
    "kmeans = KMeans(n_clusters=num_clusters, random_state=0)\n",
    "clusters = kmeans.fit_predict(X)\n",
    "\n",
    "# Assign clusters to original data\n",
    "clustered_data = pd.DataFrame({'Conversation': data, 'Cluster': clusters})\n",
    "\n",
    "# Display the clustered data\n",
    "print(clustered_data)\n"
   ]
  },
  {
   "cell_type": "code",
   "execution_count": 15,
   "metadata": {},
   "outputs": [
    {
     "name": "stdout",
     "output_type": "stream",
     "text": [
      "Customer: Im currently facing some challenges with my financial operations. Can you tell me more about how you can help? Salesman: Of course! Id be happy to. Can you provide some specific examples of the challenges youre facing? Customer: What are your goals for the coming year? Salesman: Thats a great question. Id love to hear more about what youre looking to achieve. Can you share some of your goals with me? Customer: Ive been experiencing difficulties with scalability in my current system. Can you help me with that? Salesman: Absolutely. Just to clarify, are you saying that the lack of scalability is your main pain point? Customer: Im not sure if your solution can address my specific needs. Can you explain how it can help? Salesman: Certainly. Lets connect your needs to our solution. Can you tell me more about your pain points so I can show you how our product can address them? Customer: I have multiple needs and pain points. How do you suggest we prioritize them? Salesman: Thats a great question. Lets start by identifying the most critical pain points you have. Can you share with me the ones that have the biggest impact on your business? Customer: I want to make sure that your solution is the right fit for my unique situation. Can you connect my needs to your product? Salesman: Absolutely. Lets make that connection. Can you provide me with more details about your needs and pain points so I can show you how our solution can specifically address them? Customer: Im not sure if you fully understood my needs. Can you summarize what Ive shared so far? Salesman: Of course. Let me summarize what Ive gathered from our conversation. Please correct me if I miss anything. Youre looking for a solution that can streamline your operations, reduce costs, and provide scalability. Is that correct? \n",
      "\n",
      "                    Answer as a Customer to the Salesman.\n",
      "                    Customer: I need more information before making a decision. Can you clarify any uncertainties I have?\n",
      "Customer: Im interested in your financial services. Can you provide any testimonials from satisfied customers? Salesman: Absolutely! We have testimonials from a diverse range of customers who have had positive experiences with our services. These testimonials demonstrate the value and benefits of our offerings. Customer: How do I know if these testimonials are authentic and credible? Salesman: We take authenticity very seriously. We reach out to satisfied customers and ask for their permission to feature their testimonials. We include their full name, job title, and other relevant details that add credibility to their endorsements. Customer: Do you have any industry experts or influencers who endorse your financial services? Salesman: Yes, we have collaborations and partnerships with industry experts who endorse our services. We also share quotes and endorsements from well-known individuals in the finance industry. Their endorsements enhance the credibility and perceived value of our offerings. Customer: Can you provide me with a case study that showcases the impact of your financial services? Salesman: Certainly! We have a case study that provides an in-depth analysis of how our services solved a particular problem for a customer. It outlines the challenges faced, the solution provided, and the measurable results achieved, providing compelling evidence of the effectiveness of our services. Customer: How should I incorporate testimonials into my sales pitch? Salesman: Its important to incorporate testimonials naturally within your conversations or presentations. Highlight the relevant points and avoid overselling or inundating potential customers with excessive testimonials. The goal is to establish trust and credibility, not just bombard customers with positive reviews. Customer: How can social proof and testimonials help me convince potential customers to choose your financial services? Salesman: Social proof and testimonials serve as external validation, assuring customers that they are making the right choice. By showcasing testimonials from satisfied customers, industry experts, and influencers, we provide tangible evidence of the value and benefits of our services. Customer: What should I focus on when leveraging social proof and testimonials? Salesman: Focus on authenticity and diversity. Collect testimonials from a diverse range of customers and ensure they are authentic and credible. Showcase industry experts and influencers who endorse our services. By doing so, we enhance our credibility and increase customers confidence in choosing our offerings. \n",
      "\n",
      "                    Answer as a Customer to the Salesman.\n",
      "                    Customer: How can I avoid coming across as disingenuous when using social proof and testimonials?\n",
      "Customer: Thats great! I appreciate clarity in communication. It helps me make informed decisions. Salesman: Absolutely. We understand the importance of being clear and concise to meet our customers needs. Customer: That would be helpful. I dont want to get overwhelmed with unnecessary details. Salesman: Understood. Ill provide you with concise information that highlights the unique aspects of our product. Customer: Thats a relief. I appreciate when companies cater to customers with different levels of technical knowledge. Salesman: Absolutely, we aim to make our communication accessible to everyone. Customer: Thats great! It helps me understand how your product can meet my specific needs. Salesman: Im glad to hear that. Ill ensure that the information is presented in a concise and organized manner. Customer: Thats exactly what Im looking for. It helps me trust the message youre conveying. Salesman: Trust and clarity go hand in hand, and we prioritize both in our communication. \n",
      "\n",
      "                    Answer as a Customer to the Salesman.\n",
      "                    Customer: Thats reassuring. It helps build a strong connection when salespeople genuinely listen to their customers.\n",
      "Customer: Im looking for a new software solution for my company. Do you have anything that can meet our specific requirements? Salesman: Absolutely! Id be happy to help. Can you tell me more about your companys needs and what youre looking for in a software solution? Customer: Ive been having some issues with my current supplier. Im interested in exploring other options. What can you offer? Salesman: I understand your concerns. Can you share more details about the issues youve been facing? I want to ensure that we can provide a solution that meets your specific requirements. Customer: Im not sure if your product would be a good fit for my business. Can you tell me more about its features and benefits? Salesman: Of course! Id be happy to provide more information. Can you share what specific needs or challenges youre currently facing? That way, I can highlight the features and benefits that align with your business goals. \n",
      "\n",
      "                    Answer as a Customer to the Salesman.\n",
      "                    Customer: Im interested in your services, but I want to know if you have any success stories or testimonials from satisfied customers.\n",
      "Customer: Im currently facing some challenges with my current tech infrastructure. Salesman: Can you tell me more about your current challenges? Customer: Our system lacks scalability and its impacting our ability to grow. Salesman: Just to confirm, are you saying that the main pain point you are facing is the lack of scalability in your current system? Customer: Yes, thats correct. We need a solution that can support our future growth. Salesman: I understand. We have a product that offers scalable infrastructure solutions to support your business growth. Would you like to know more about it? Customer: What are your goals for the coming year? Salesman: By understanding your goals, we can align our solutions to help you achieve them. Can you share your goals for the coming year? Customer: We want to improve operational efficiency and reduce costs. Salesman: If I understand correctly, you are looking for a solution that can help streamline your operations and reduce costs, is that correct? Customer: Yes, thats exactly what we need. How can your product help us achieve that? Salesman: Our product offers efficiency-focused features that can streamline your operations and reduce costs. Let me explain how it works... Customer: Can you give me an example of when this challenge has negatively impacted your business? Salesman: To better understand the impact of the challenge youre facing, could you provide an example of how it has negatively affected your business? \n",
      "\n",
      "                    Answer as a Customer to the Salesman.\n",
      "                    Customer: We faced significant downtime due to system instability, resulting in lost revenue and customer dissatisfaction.\n",
      "Customer: Im interested in learning more about your product. Can you explain it to me? Salesman: Certainly! Our product is designed to streamline workflow processes and increase efficiency. It incorporates advanced automation features and intuitive user interfaces. Would you like me to provide more specific details? Customer: I have a limited budget and need a solution that fits within it. Can you give me a breakdown of the pricing? Salesman: Absolutely! Our pricing is structured to accommodate various budgets. The basic package starts at $X per month and includes essential features. We also offer premium packages with additional functionalities. Lets discuss your requirements further to find the best fit for you. Customer: Im not very tech-savvy. Will I be able to use your product without any difficulties? Salesman: Definitely! We understand that not everyone is tech-savvy, so weve designed our product with user-friendliness in mind. It has a simple and intuitive interface, and our customer support team is always available to assist you if you encounter any challenges. Customer: Ive heard about similar products in the market. What makes yours stand out? Salesman: Great question! Our product stands out for several reasons. Firstly, it offers a unique combination of features that address specific pain points in your industry. Additionally, we have a strong track record of customer satisfaction and positive reviews. Would you like to hear some success stories from our clients? Customer: Im concerned about the implementation process. Will it be time-consuming and complicated? Salesman: Not at all! Our implementation process is designed to be seamless and efficient. We provide comprehensive guidance and support throughout the entire process. Our team will work closely with you to ensure a smooth transition and minimal disruption to your operations. Customer: Can you provide some statistics or case studies that demonstrate the effectiveness of your product? Salesman: Absolutely! We have several case studies and statistics that showcase the positive impact our product has had on our clients businesses. I can provide you with a detailed report that highlights the specific benefits and ROI they experienced. Would you like me to share that with you? Customer: Im not sure if your product is suitable for my unique business needs. Can you customize it? Salesman: Certainly! We understand that every business is different, and we offer customization options to tailor our product to your specific needs. Our team will work closely with you to understand your requirements and make the necessary adjustments to ensure a perfect fit. \n",
      "\n",
      "                    Answer as a Customer to the Salesman.\n",
      "                    Customer: Im currently using a competitors product. Why should I switch to yours?\n",
      "Customer: Im really struggling to find a solution that meets my specific needs. Salesman: I understand how frustrating that can be. Can you please tell me more about your unique circumstances and what youre looking for? Customer: Im concerned that this product wont address all of my pain points. Salesman: I appreciate your concern. Could you share more details about your specific pain points so that I can better understand and offer a solution that addresses them? Customer: Im not sure if this product is the right fit for me. Salesman: I completely understand your hesitation. Can you tell me more about your preferences and requirements? That way, I can determine if this product is suitable or if theres a better alternative for you. Customer: Im having trouble understanding the technical terms youre using. Salesman: I apologize for any confusion. Let me explain the concept in simpler terms that are easier to understand. Does that sound good? Customer: I prefer a more collaborative approach rather than a direct one. Salesman: I respect your preference for a collaborative approach. Lets work together to find a solution that meets your needs. How can we proceed? Customer: Im feeling a bit overwhelmed by this negotiation process. Salesman: Negotiations can be challenging, but I want you to know that Im here to support you. Lets take it one step at a time and find a mutually beneficial solution. How can I assist you? \n",
      "\n",
      "                    Answer as a Customer to the Salesman.\n",
      "                    Customer: I appreciate your feedback, but Im not sure how to implement it.\n",
      "Customer: Hi, Im interested in your tech product. Can you tell me more about its features? Salesman: Of course! Our tech product has a wide range of features that cater to different needs. What specific features are you looking for? Customer: I have some concerns about the durability of your product. Can you address that? Salesman: I understand your concern. Our product is designed to be durable and undergoes rigorous testing to ensure its quality. Would you like more information on the testing process? Customer: Im not sure if this product is suitable for my business. Can you provide some examples of how it has been used in similar industries? Salesman: Absolutely! We have worked with various industries, including tech companies, healthcare providers, and retail businesses. Let me share some success stories and case studies with you. Customer: I have limited knowledge about tech products. Can you explain it to me in simple terms? Salesman: Certainly! I can break down the technical jargon and explain the products features and benefits in a way that is easy to understand. Lets go through it step by step. Customer: Ive had a bad experience with a similar product in the past. How can I trust that your product is different? Salesman: I completely understand your concern. We value customer satisfaction and have implemented improvements based on feedback to ensure a better experience. Let me share some testimonials from other customers who have had a positive experience with our product. \n",
      "\n",
      "                    Answer as a Customer to the Salesman.\n",
      "                    Customer: Im not ready to make a decision yet. Can you follow up with me in a week?\n",
      "Customer: Im looking for a new laptop, but Im not sure which one would be the best fit for my needs. Salesman: Tell me more about what youre looking for in a laptop. What are the specific features or capabilities that are important to you? Customer: Ive been experiencing a lot of slow loading times on my current computer. Do you have any recommendations? Salesman: Could you provide more details about the slow loading times? Is it happening when youre running specific programs or during general usage? Customer: Im interested in upgrading my smartphone, but Im not sure if I should go for the latest model or something more budget-friendly. Salesman: What are the main reasons for wanting to upgrade your smartphone? Are there any specific features or functionalities that you prioritize? Customer: Im in the market for a new gaming console, but Im not sure which one would be the best value for money. Salesman: Can you tell me more about the types of games you enjoy playing and any specific requirements you have in terms of graphics or performance? \n",
      "\n",
      "                    Answer as a Customer to the Salesman.\n",
      "                    Customer: Im considering purchasing a smart home system, but Im not sure how it can benefit me. Can you provide some insights?\n",
      "Customer: Im interested in your health product. Can you provide any testimonials from satisfied customers? Salesman: Absolutely! We have a wide range of testimonials from customers who have had positive experiences with our product. They can vouch for its effectiveness and the benefits theyve seen. Customer: Do you have any testimonials from customers in my industry? Salesman: Definitely! We have testimonials from customers in various industries, including yours. These testimonials can showcase how our product specifically addresses the challenges faced in your industry. Customer: How do I know these testimonials are authentic and not fabricated? Salesman: We take authenticity seriously. All our testimonials are from real customers who have given us their permission to feature their feedback. We include their full names, job titles, and any other relevant details to ensure credibility. Customer: Can you provide any endorsements from industry experts or influencers? Salesman: Absolutely! We have endorsements from well-known experts in the health industry who vouch for the effectiveness of our product. Their support adds credibility and value to our offering. Customer: Do you have any case studies that demonstrate the real-world impact of your product? Salesman: Definitely! We have detailed case studies that showcase how our product has solved specific problems for our customers. These studies provide compelling evidence of the effectiveness and measurable results of our offering. Customer: How do you incorporate testimonials seamlessly into your sales pitch? Salesman: We ensure that testimonials are integrated naturally into our conversations or presentations. We highlight relevant points and avoid overwhelming customers with excessive testimonials. The goal is to establish trust and credibility, not just bombard customers with positive reviews. \n",
      "\n",
      "                    Answer as a Customer to the Salesman.\n",
      "                    Customer: Why is leveraging social proof and testimonials important in sales?\n"
     ]
    }
   ],
   "source": [
    "for i in range(10,20):\n",
    "    print(clustered_data[clustered_data['Cluster'] == 1].iloc[i]['Conversation'])"
   ]
  },
  {
   "cell_type": "code",
   "execution_count": 16,
   "metadata": {},
   "outputs": [],
   "source": [
    "import random\n",
    "import faker\n",
    "\n",
    "fake = faker.Faker()\n",
    "\n",
    "# Mocking client records\n",
    "def mock_clients(num_clients):\n",
    "    clients = []\n",
    "    for i in range(num_clients):\n",
    "        client_id = i + 1\n",
    "        client_name = fake.company()\n",
    "        clients.append((client_id, client_name))\n",
    "    return clients\n",
    "    # df_clients = pd.DataFrame(clients, columns=['id', 'name'])\n",
    "    # return df_clients\n",
    "\n",
    "# Mocking contact records\n",
    "def mock_contacts(num_contacts, clients):\n",
    "    contacts = []\n",
    "    for i in range(num_contacts):\n",
    "        contact_id = i + 1\n",
    "        client_id = random.choice(clients)[0]\n",
    "        contact_name = fake.name()\n",
    "        phone_number = fake.phone_number()\n",
    "        contacts.append((contact_id, client_id, contact_name, phone_number))\n",
    "    return contacts\n",
    "    # df_contacts = pd.DataFrame(contacts, columns=['id', 'client_id', 'name', 'phone_number'])\n",
    "    # return df_contacts\n",
    "\n",
    "# Mocking call records\n",
    "def mock_call_records(num_calls, clients, contacts):\n",
    "    call_records = []\n",
    "    for i in range(num_calls):\n",
    "        call_id = i + 1\n",
    "        client_id = random.choice(clients)[0]\n",
    "        contact_id = random.choice(contacts)[0]\n",
    "        phone_number = fake.phone_number()\n",
    "        call_records.append((call_id, client_id, contact_id, phone_number))\n",
    "    return call_records\n",
    "    # df_call_records = pd.DataFrame(call_records, columns=['id', 'client_id', 'contact_id', 'phone_number'])\n",
    "    # return df_call_records\n",
    "\n",
    "# Example usage\n",
    "num_clients = 5\n",
    "num_contacts = 10\n",
    "num_calls = 20\n",
    "\n",
    "clients = mock_clients(num_clients)\n",
    "contacts = mock_contacts(num_contacts, clients)\n",
    "call_records = mock_call_records(num_calls, clients, contacts)"
   ]
  },
  {
   "cell_type": "code",
   "execution_count": 17,
   "metadata": {},
   "outputs": [],
   "source": [
    "df_clients = pd.DataFrame(clients, columns=['id', 'name'])\n",
    "df_contacts = pd.DataFrame(contacts, columns=['id', 'client_id', 'name', 'phone_number'])\n",
    "df_callrecords = pd.DataFrame(call_records, columns=['id', 'client_id', 'contact_id', 'phone_number'])"
   ]
  },
  {
   "cell_type": "code",
   "execution_count": 18,
   "metadata": {},
   "outputs": [],
   "source": [
    "%run mock_conversations.py"
   ]
  },
  {
   "cell_type": "code",
   "execution_count": 19,
   "metadata": {},
   "outputs": [
    {
     "data": {
      "text/plain": [
       "[{'speaker': 'TikTok Sales Representative (Emily)',\n",
       "  'role': 'salesman',\n",
       "  'message': \"Hi there! I'm Emily from TikTok's advertising team. How are you today?\"},\n",
       " {'speaker': 'Potential Client (Jessica)',\n",
       "  'role': 'customer',\n",
       "  'message': \"Hi Emily, I'm doing well, thank you. How about you?\"},\n",
       " {'speaker': 'Emily',\n",
       "  'role': 'salesman',\n",
       "  'message': \"I'm great, thanks! I'm excited to discuss how TikTok's advertising solutions can benefit your business. Could you tell me a bit about your business and your advertising goals?\"},\n",
       " {'speaker': 'Jessica',\n",
       "  'role': 'customer',\n",
       "  'message': 'Sure! We run a small boutique specializing in handmade jewelry. Our goal is to increase online sales and build brand awareness among a younger audience.'},\n",
       " {'speaker': 'Emily',\n",
       "  'role': 'salesman',\n",
       "  'message': \"That's fantastic. TikTok could be a great platform to showcase your unique products through engaging video content. Have you considered advertising on TikTok before?\"},\n",
       " {'speaker': 'Jessica',\n",
       "  'role': 'customer',\n",
       "  'message': \"We've thought about it, but we're also exploring other social media platforms. We're looking for the most cost-effective solution that aligns with our budget.\"},\n",
       " {'speaker': 'Emily',\n",
       "  'role': 'salesman',\n",
       "  'message': \"I understand. TikTok offers various ad formats and targeting options that can be tailored to fit different budgets. Have you determined what kind of budget you'd be comfortable with for advertising?\"},\n",
       " {'speaker': 'Jessica',\n",
       "  'role': 'customer',\n",
       "  'message': \"Not exactly. We're still in the early stages of planning our marketing strategy for the next quarter.\"},\n",
       " {'speaker': 'Emily',\n",
       "  'role': 'salesman',\n",
       "  'message': 'No problem at all. Would you be interested in hearing more about our ad solutions and how they could potentially benefit your business?'},\n",
       " {'speaker': 'Jessica',\n",
       "  'role': 'customer',\n",
       "  'message': \"I appreciate the information, Emily. However, I think we'll need more time to evaluate our options and compare them with other platforms before making a decision.\"},\n",
       " {'speaker': 'Emily',\n",
       "  'role': 'salesman',\n",
       "  'message': \"I completely understand. It's important to explore all your options thoroughly. Would it be okay if I follow up with you in a few weeks to see if you've had a chance to review everything?\"},\n",
       " {'speaker': 'Jessica',\n",
       "  'role': 'customer',\n",
       "  'message': 'That sounds good to me. I should have a clearer picture of our marketing plans by then.'},\n",
       " {'speaker': 'Emily',\n",
       "  'role': 'salesman',\n",
       "  'message': \"Perfect. I'll make a note to check back in with you in about three weeks. In the meantime, if you have any questions or need further information, feel free to reach out.\"},\n",
       " {'speaker': 'Jessica',\n",
       "  'role': 'customer',\n",
       "  'message': 'Thank you, Emily. I appreciate your understanding and assistance.'},\n",
       " {'speaker': 'Emily',\n",
       "  'role': 'salesman',\n",
       "  'message': \"You're very welcome, Jessica. Have a wonderful day, and I'll talk to you soon!\"},\n",
       " {'speaker': 'Jessica',\n",
       "  'role': 'customer',\n",
       "  'message': 'You too, Emily. Take care!'}]"
      ]
     },
     "execution_count": 19,
     "metadata": {},
     "output_type": "execute_result"
    }
   ],
   "source": [
    "convos['convo5']"
   ]
  },
  {
   "cell_type": "code",
   "execution_count": 20,
   "metadata": {},
   "outputs": [],
   "source": [
    "def extract(convo_ds):\n",
    "    cust, sales = [], []\n",
    "    for entry in convo_ds:\n",
    "        if entry['role'] == 'customer':\n",
    "            cust.append(entry['message'])\n",
    "        if entry['role'] == 'salesman':\n",
    "            sales.append(entry['message'])\n",
    "    return cust, sales\n",
    "\n",
    "list_cust, list_sales = extract(convos['convo5'])\n",
    "full_cust, full_sales = ' '.join(list_cust), ' '.join(list_sales)"
   ]
  },
  {
   "cell_type": "code",
   "execution_count": 21,
   "metadata": {},
   "outputs": [
    {
     "data": {
      "text/plain": [
       "'Emily advises a small boutique on how to increase online sales and build brand awareness among a younger audience. The boutique is in the early stages of planning its marketing strategy for the next quarter and needs more time to assess other social media platforms.'"
      ]
     },
     "execution_count": 21,
     "metadata": {},
     "output_type": "execute_result"
    }
   ],
   "source": [
    "summarise(full_cust)"
   ]
  },
  {
   "cell_type": "code",
   "execution_count": 22,
   "metadata": {},
   "outputs": [
    {
     "data": {
      "text/plain": [
       "'marketing strategy, marketing plans, budget, online sales, brand awareness, social media platforms'"
      ]
     },
     "execution_count": 22,
     "metadata": {},
     "output_type": "execute_result"
    }
   ],
   "source": [
    "extract_keywords(full_cust)"
   ]
  },
  {
   "cell_type": "code",
   "execution_count": 23,
   "metadata": {},
   "outputs": [
    {
     "name": "stdout",
     "output_type": "stream",
     "text": [
      "Hi Emily, I'm doing well, thank you. How about you? | Prediction: joy\n",
      "Sure! We run a small boutique specializing in handmade jewelry. Our goal is to increase online sales and build brand awareness among a younger audience. | Prediction: joy\n",
      "We've thought about it, but we're also exploring other social media platforms. We're looking for the most cost-effective solution that aligns with our budget. | Prediction: neutral\n",
      "Not exactly. We're still in the early stages of planning our marketing strategy for the next quarter. | Prediction: neutral\n",
      "I appreciate the information, Emily. However, I think we'll need more time to evaluate our options and compare them with other platforms before making a decision. | Prediction: joy\n",
      "That sounds good to me. I should have a clearer picture of our marketing plans by then. | Prediction: neutral\n",
      "Thank you, Emily. I appreciate your understanding and assistance. | Prediction: joy\n",
      "You too, Emily. Take care! | Prediction: anger\n"
     ]
    }
   ],
   "source": [
    "for line in list_cust:\n",
    "    print(f\"{line} | Prediction: {analyze_sentiment(line)}\")"
   ]
  },
  {
   "cell_type": "code",
   "execution_count": 24,
   "metadata": {},
   "outputs": [
    {
     "name": "stdout",
     "output_type": "stream",
     "text": [
      "Hi there! I'm Emily from TikTok's advertising team. How are you today? | Prediction: neutral\n",
      "I'm great, thanks! I'm excited to discuss how TikTok's advertising solutions can benefit your business. Could you tell me a bit about your business and your advertising goals? | Prediction: joy\n",
      "That's fantastic. TikTok could be a great platform to showcase your unique products through engaging video content. Have you considered advertising on TikTok before? | Prediction: joy\n",
      "I understand. TikTok offers various ad formats and targeting options that can be tailored to fit different budgets. Have you determined what kind of budget you'd be comfortable with for advertising? | Prediction: neutral\n",
      "No problem at all. Would you be interested in hearing more about our ad solutions and how they could potentially benefit your business? | Prediction: neutral\n",
      "I completely understand. It's important to explore all your options thoroughly. Would it be okay if I follow up with you in a few weeks to see if you've had a chance to review everything? | Prediction: neutral\n",
      "Perfect. I'll make a note to check back in with you in about three weeks. In the meantime, if you have any questions or need further information, feel free to reach out. | Prediction: neutral\n",
      "You're very welcome, Jessica. Have a wonderful day, and I'll talk to you soon! | Prediction: joy\n"
     ]
    }
   ],
   "source": [
    "for line in list_sales:\n",
    "    print(f\"{line} | Prediction: {analyze_sentiment(line)}\")"
   ]
  },
  {
   "cell_type": "code",
   "execution_count": 25,
   "metadata": {},
   "outputs": [
    {
     "name": "stdout",
     "output_type": "stream",
     "text": [
      "Conversation 'convo1':\n",
      "- salesman (Alex): I'm great, thank you! I'm excited to discuss how TikTok can help your brand reach a wider audience and drive engagement. Could you tell me a bit about your business and your current marketing strategies?\n",
      "- salesman (Alex): We can set up a follow-up meeting with our creative and marketing teams to discuss a customized strategy for your brand. We'll also provide you with a detailed proposal outlining our recommendations and potential costs.\n",
      "- customer (Jamie): Sounds good, Alex. Let's schedule that follow-up meeting.\n",
      "- salesman (Alex): Fantastic! I'll send you an email with available times for next week. Thank you for your time, Jamie. I look forward to working together to make your brand shine on TikTok!\n",
      "\n",
      "Conversation 'convo2':\n",
      "- salesman (Sarah): Costs can vary based on the influencer's reach and engagement rates. We can discuss budget options and find influencers who fit within your marketing budget while delivering impactful results.\n",
      "- salesman (Sarah): We can schedule a follow-up meeting to discuss influencer selection, campaign strategy, and budget allocation. I’ll also prepare a proposal outlining our recommendations tailored to your specific goals.\n",
      "- customer (Ryan): That sounds like a plan. Let’s set up that follow-up meeting.\n",
      "- salesman (Sarah): Excellent! I'll send you an email with available times for next week. Thank you for your time, Ryan. I look forward to helping your app gain traction on TikTok!\n",
      "\n",
      "Conversation 'convo3':\n",
      "- salesman (Emily): I'm great, thanks for asking! I'm excited to discuss how TikTok can help your startup increase brand awareness and engagement. Could you tell me a bit about your company and your current marketing strategies?\n",
      "- customer (Mark): Sure! We're a travel tech company specializing in personalized trip planning apps. Currently, we focus on digital ads and partnerships with travel influencers.\n",
      "- salesman (Emily): Costs vary based on the influencer's reach and engagement rates. We can discuss budget options and find influencers who align with your marketing goals while delivering impactful results.\n",
      "- salesman (Emily): We can arrange a follow-up meeting to finalize influencer selection, discuss campaign strategies, and outline budget allocations. I'll prepare a detailed proposal for your review.\n",
      "- customer (Mark): That sounds like a plan. Let's schedule that follow-up meeting.\n",
      "- salesman (Emily): Great! I'll send you an email with available times for next week. Thank you for your time, Mark. I'm looking forward to helping your company thrive on TikTok!\n",
      "\n",
      "Conversation 'convo4':\n",
      "- salesman (Emily): I'm great, thanks for asking! I'm excited to discuss how TikTok can help your startup increase brand awareness and engagement. Could you tell me a bit about your company and your current marketing strategies?\n",
      "- customer (Mark): Sure! We're a travel tech company specializing in personalized trip planning apps. Currently, we focus on digital ads and partnerships with travel influencers.\n",
      "- salesman (Emily): Costs vary based on the influencer's reach and engagement rates. We can discuss budget options and find influencers who align with your marketing goals while delivering impactful results.\n",
      "- salesman (Emily): We can arrange a follow-up meeting to finalize influencer selection, discuss campaign strategies, and outline budget allocations. I'll prepare a detailed proposal for your review.\n",
      "- customer (Mark): That sounds like a plan. Let's schedule that follow-up meeting.\n",
      "- salesman (Emily): Great! I'll send you an email with available times for next week. Thank you for your time, Mark. I'm looking forward to helping your company thrive on TikTok!\n",
      "\n",
      "Conversation 'convo5':\n",
      "- salesman (Emily): I'm great, thanks! I'm excited to discuss how TikTok's advertising solutions can benefit your business. Could you tell me a bit about your business and your advertising goals?\n",
      "- customer (Jessica): Not exactly. We're still in the early stages of planning our marketing strategy for the next quarter.\n",
      "- salesman (Emily): I completely understand. It's important to explore all your options thoroughly. Would it be okay if I follow up with you in a few weeks to see if you've had a chance to review everything?\n",
      "- customer (Jessica): That sounds good to me. I should have a clearer picture of our marketing plans by then.\n",
      "\n",
      "Conversation 'convo6':\n",
      "- salesman (Alex): Likewise, Emma! I'm excited to discuss how TikTok's advertising solutions can help your brand reach a wider audience and drive engagement. Could you share a bit about your business and your marketing goals?\n",
      "- salesman (Alex): I'll prepare a detailed proposal for your review, including recommended ad formats, targeting options, and budget considerations. Once you've reviewed the proposal, we can schedule a call to discuss any questions or adjustments before launching your campaign.\n",
      "- customer (Emma): Sounds good, Alex. Please send over the proposal when it's ready.\n",
      "- salesman (Alex): Will do, Emma. I'll prioritize putting together the proposal and send it to you by the end of the week. Thank you for your time today, and I look forward to helping your sustainable fashion brand succeed on TikTok!\n",
      "\n"
     ]
    }
   ],
   "source": [
    "# Define follow-up action keywords\n",
    "follow_up_keywords = [\"schedule\", \"follow up\", \"set up\", \"arrange\", \"send\", \"discuss\", \"plan\"]\n",
    "\n",
    "# Function to extract follow-up actions from a conversation\n",
    "def extract_follow_up_actions(convo):\n",
    "    follow_up_actions = []\n",
    "    for message in convo:\n",
    "        for keyword in follow_up_keywords:\n",
    "            if keyword in message[\"message\"].lower():\n",
    "                follow_up_actions.append({\n",
    "                    \"speaker\": message[\"speaker\"],\n",
    "                    \"role\": message[\"role\"],\n",
    "                    \"message\": message[\"message\"]\n",
    "                })\n",
    "                break  # Stop checking further keywords once a match is found\n",
    "    return follow_up_actions\n",
    "\n",
    "# Extract follow-up actions from each conversation in your convos dataset\n",
    "all_follow_up_actions = {}\n",
    "for convo_name, conversation in convos.items():\n",
    "    follow_up_actions = extract_follow_up_actions(conversation)\n",
    "    all_follow_up_actions[convo_name] = follow_up_actions\n",
    "\n",
    "# Print the extracted follow-up actions for each conversation\n",
    "for convo_name, actions in all_follow_up_actions.items():\n",
    "    print(f\"Conversation '{convo_name}':\")\n",
    "    for action in actions:\n",
    "        print(f\"- {action['role']} ({action['speaker']}): {action['message']}\")\n",
    "    print()\n"
   ]
  },
  {
   "cell_type": "code",
   "execution_count": 26,
   "metadata": {},
   "outputs": [
    {
     "name": "stdout",
     "output_type": "stream",
     "text": [
      "Conversation 'convo1':\n",
      "- salesman (Alex): I'm great, thank you! I'm excited to discuss how TikTok can help your brand reach a wider audience and drive engagement. Could you tell me a bit about your business and your current marketing strategies? | Timeframe: None\n",
      "- salesman (Alex): We can set up a follow-up meeting with our creative and marketing teams to discuss a customized strategy for your brand. We'll also provide you with a detailed proposal outlining our recommendations and potential costs. | Timeframe: None\n",
      "- customer (Jamie): Sounds good, Alex. Let's schedule that follow-up meeting. | Timeframe: None\n",
      "- salesman (Alex): Fantastic! I'll send you an email with available times for next week. Thank you for your time, Jamie. I look forward to working together to make your brand shine on TikTok! | Timeframe: next week\n",
      "\n",
      "Conversation 'convo2':\n",
      "- salesman (Sarah): Costs can vary based on the influencer's reach and engagement rates. We can discuss budget options and find influencers who fit within your marketing budget while delivering impactful results. | Timeframe: None\n",
      "- salesman (Sarah): We can schedule a follow-up meeting to discuss influencer selection, campaign strategy, and budget allocation. I’ll also prepare a proposal outlining our recommendations tailored to your specific goals. | Timeframe: None\n",
      "- customer (Ryan): That sounds like a plan. Let’s set up that follow-up meeting. | Timeframe: None\n",
      "- salesman (Sarah): Excellent! I'll send you an email with available times for next week. Thank you for your time, Ryan. I look forward to helping your app gain traction on TikTok! | Timeframe: next week\n",
      "\n",
      "Conversation 'convo3':\n",
      "- salesman (Emily): I'm great, thanks for asking! I'm excited to discuss how TikTok can help your startup increase brand awareness and engagement. Could you tell me a bit about your company and your current marketing strategies? | Timeframe: None\n",
      "- customer (Mark): Sure! We're a travel tech company specializing in personalized trip planning apps. Currently, we focus on digital ads and partnerships with travel influencers. | Timeframe: None\n",
      "- salesman (Emily): Costs vary based on the influencer's reach and engagement rates. We can discuss budget options and find influencers who align with your marketing goals while delivering impactful results. | Timeframe: None\n",
      "- salesman (Emily): We can arrange a follow-up meeting to finalize influencer selection, discuss campaign strategies, and outline budget allocations. I'll prepare a detailed proposal for your review. | Timeframe: None\n",
      "- customer (Mark): That sounds like a plan. Let's schedule that follow-up meeting. | Timeframe: None\n",
      "- salesman (Emily): Great! I'll send you an email with available times for next week. Thank you for your time, Mark. I'm looking forward to helping your company thrive on TikTok! | Timeframe: next week\n",
      "\n",
      "Conversation 'convo4':\n",
      "- salesman (Emily): I'm great, thanks for asking! I'm excited to discuss how TikTok can help your startup increase brand awareness and engagement. Could you tell me a bit about your company and your current marketing strategies? | Timeframe: None\n",
      "- customer (Mark): Sure! We're a travel tech company specializing in personalized trip planning apps. Currently, we focus on digital ads and partnerships with travel influencers. | Timeframe: None\n",
      "- salesman (Emily): Costs vary based on the influencer's reach and engagement rates. We can discuss budget options and find influencers who align with your marketing goals while delivering impactful results. | Timeframe: None\n",
      "- salesman (Emily): We can arrange a follow-up meeting to finalize influencer selection, discuss campaign strategies, and outline budget allocations. I'll prepare a detailed proposal for your review. | Timeframe: None\n",
      "- customer (Mark): That sounds like a plan. Let's schedule that follow-up meeting. | Timeframe: None\n",
      "- salesman (Emily): Great! I'll send you an email with available times for next week. Thank you for your time, Mark. I'm looking forward to helping your company thrive on TikTok! | Timeframe: next week\n",
      "\n",
      "Conversation 'convo5':\n",
      "- salesman (Emily): I'm great, thanks! I'm excited to discuss how TikTok's advertising solutions can benefit your business. Could you tell me a bit about your business and your advertising goals? | Timeframe: None\n",
      "- customer (Jessica): Not exactly. We're still in the early stages of planning our marketing strategy for the next quarter. | Timeframe: next quarter\n",
      "- salesman (Emily): I completely understand. It's important to explore all your options thoroughly. Would it be okay if I follow up with you in a few weeks to see if you've had a chance to review everything? | Timeframe: few weeks\n",
      "- customer (Jessica): That sounds good to me. I should have a clearer picture of our marketing plans by then. | Timeframe: None\n",
      "\n",
      "Conversation 'convo6':\n",
      "- salesman (Alex): Likewise, Emma! I'm excited to discuss how TikTok's advertising solutions can help your brand reach a wider audience and drive engagement. Could you share a bit about your business and your marketing goals? | Timeframe: None\n",
      "- salesman (Alex): I'll prepare a detailed proposal for your review, including recommended ad formats, targeting options, and budget considerations. Once you've reviewed the proposal, we can schedule a call to discuss any questions or adjustments before launching your campaign. | Timeframe: None\n",
      "- customer (Emma): Sounds good, Alex. Please send over the proposal when it's ready. | Timeframe: None\n",
      "- salesman (Alex): Will do, Emma. I'll prioritize putting together the proposal and send it to you by the end of the week. Thank you for your time today, and I look forward to helping your sustainable fashion brand succeed on TikTok! | Timeframe: the week\n",
      "\n"
     ]
    }
   ],
   "source": [
    "import re\n",
    "\n",
    "# Define follow-up action keywords\n",
    "follow_up_keywords = [\"schedule\", \"follow up\", \"set up\", \"arrange\", \"send\", \"discuss\", \"plan\"]\n",
    "\n",
    "# Define patterns for timeframe extraction\n",
    "timeframe_patterns = [\n",
    "    r\"(\\bnext\\b\\s+\\w+)\",  # Matches phrases like \"next week\", \"next month\"\n",
    "    r\"(\\btomorrow\\b|\\btonight\\b)\",  # Matches specific days like \"tomorrow\" or \"tonight\"\n",
    "    r\"(\\b\\d{1,2}\\/\\d{1,2}\\/\\d{4}\\b)\",  # Matches dates in format dd/mm/yyyy\n",
    "    r\"(\\b\\d{1,2}-\\d{1,2}-\\d{4}\\b)\",  # Matches dates in format dd-mm-yyyy\n",
    "    r\"(\\b\\d{1,2}\\s+(?:Jan|Feb|Mar|Apr|May|Jun|Jul|Aug|Sep|Oct|Nov|Dec)\\s+\\d{4}\\b)\",  # Matches dates like \"1 Jan 2024\"\n",
    "    r\"(\\b(?:\\w+\\s+)?(?:weeks?|days?)\\b)\"\n",
    "]\n",
    "\n",
    "# Function to extract follow-up actions and timeframes from a conversation\n",
    "def extract_follow_up_actions_with_timeframes(convo):\n",
    "    follow_up_actions = []\n",
    "    for message in convo:\n",
    "        message_text = message[\"message\"].lower()\n",
    "        found_action = False\n",
    "        for keyword in follow_up_keywords:\n",
    "            if keyword in message_text:\n",
    "                found_action = True\n",
    "                follow_up_actions.append({\n",
    "                    \"speaker\": message[\"speaker\"],\n",
    "                    \"role\": message[\"role\"],\n",
    "                    \"message\": message[\"message\"],\n",
    "                    \"timeframe\": None  # Placeholder for timeframe\n",
    "                })\n",
    "                break  # Stop checking further keywords once a match is found\n",
    "        \n",
    "        if found_action:\n",
    "            # Extract timeframe using patterns\n",
    "            for pattern in timeframe_patterns:\n",
    "                match = re.search(pattern, message_text)\n",
    "                if match:\n",
    "                    follow_up_actions[-1][\"timeframe\"] = match.group().strip()\n",
    "                    break  # Stop searching further patterns once a match is found\n",
    "\n",
    "    return follow_up_actions\n",
    "\n",
    "# Example: Extract follow-up actions with timeframes from each conversation in your convos dataset\n",
    "all_follow_up_actions_with_timeframes = {}\n",
    "for convo_name, conversation in convos.items():\n",
    "    follow_up_actions = extract_follow_up_actions_with_timeframes(conversation)\n",
    "    all_follow_up_actions_with_timeframes[convo_name] = follow_up_actions\n",
    "\n",
    "# Print the extracted follow-up actions with timeframes for each conversation\n",
    "for convo_name, actions in all_follow_up_actions_with_timeframes.items():\n",
    "    print(f\"Conversation '{convo_name}':\")\n",
    "    for action in actions:\n",
    "        print(f\"- {action['role']} ({action['speaker']}): {action['message']} | Timeframe: {action['timeframe']}\")\n",
    "    print()\n"
   ]
  },
  {
   "cell_type": "code",
   "execution_count": 34,
   "metadata": {},
   "outputs": [
    {
     "name": "stderr",
     "output_type": "stream",
     "text": [
      "Some weights of BertForSequenceClassification were not initialized from the model checkpoint at bert-base-uncased and are newly initialized: ['classifier.bias', 'classifier.weight']\n",
      "You should probably TRAIN this model on a down-stream task to be able to use it for predictions and inference.\n"
     ]
    }
   ],
   "source": [
    "# Example of integrating semantic compatibility scoring with existing approach\n",
    "\n",
    "from transformers import BertForSequenceClassification, BertTokenizer\n",
    "import torch\n",
    "\n",
    "# Fine-tuned BERT model and tokenizer (replace with your fine-tuned model)\n",
    "model_name = 'bert-base-uncased'\n",
    "tokenizer = BertTokenizer.from_pretrained(model_name)\n",
    "model = BertForSequenceClassification.from_pretrained(model_name)\n",
    "\n",
    "\n",
    "def find_best_action_noun_pair(actions, nouns):\n",
    "    max_score = -float('inf')\n",
    "    best_action_noun_pair = None\n",
    "    \n",
    "    for action in actions:\n",
    "        for noun in nouns:\n",
    "            # Prepare inputs for BERT\n",
    "            input_text = f\"{action} {noun}\"\n",
    "            inputs = tokenizer(input_text, return_tensors=\"pt\", padding=True, truncation=True)\n",
    "\n",
    "            # Forward pass through BERT\n",
    "            with torch.no_grad():\n",
    "                outputs = model(**inputs)\n",
    "\n",
    "            # Extract logits and softmax to get probabilities\n",
    "            probabilities = torch.softmax(outputs.logits, dim=-1)[0].numpy()\n",
    "\n",
    "            # Assuming index 1 is the positive class score\n",
    "            score = probabilities[1]\n",
    "\n",
    "            # Update best pair if score is higher\n",
    "            if score > max_score:\n",
    "                max_score = score\n",
    "                best_action_noun_pair = (action, noun)\n",
    "    \n",
    "    return best_action_noun_pair"
   ]
  },
  {
   "cell_type": "code",
   "execution_count": 35,
   "metadata": {},
   "outputs": [
    {
     "name": "stdout",
     "output_type": "stream",
     "text": [
      "Conversation 'convo1':\n",
      "- salesman (Alex): I'm great, thank you! I'm excited to discuss how TikTok can help your brand reach a wider audience and drive engagement. Could you tell me a bit about your business and your current marketing strategies? | Action: ('discuss', 'bit') | Timeframe: None\n",
      "- salesman (Alex): We can set up a follow-up meeting with our creative and marketing teams to discuss a customized strategy for your brand. We'll also provide you with a detailed proposal outlining our recommendations and potential costs. | Action: ('set up', 'strategy') | Timeframe: None\n",
      "- customer (Jamie): Sounds good, Alex. Let's schedule that follow-up meeting. | Action: None | Timeframe: None\n",
      "- salesman (Alex): Fantastic! I'll send you an email with available times for next week. Thank you for your time, Jamie. I look forward to working together to make your brand shine on TikTok! | Action: ('send', 'email') | Timeframe: next week\n",
      "\n",
      "Conversation 'convo2':\n",
      "- salesman (Sarah): Costs can vary based on the influencer's reach and engagement rates. We can discuss budget options and find influencers who fit within your marketing budget while delivering impactful results. | Action: ('discuss', 'results') | Timeframe: None\n",
      "- salesman (Sarah): We can schedule a follow-up meeting to discuss influencer selection, campaign strategy, and budget allocation. I’ll also prepare a proposal outlining our recommendations tailored to your specific goals. | Action: ('schedule', 'recommendations') | Timeframe: None\n",
      "- customer (Ryan): That sounds like a plan. Let’s set up that follow-up meeting. | Action: ('set up', 'meeting') | Timeframe: None\n",
      "- salesman (Sarah): Excellent! I'll send you an email with available times for next week. Thank you for your time, Ryan. I look forward to helping your app gain traction on TikTok! | Action: ('send', 'traction') | Timeframe: next week\n",
      "\n",
      "Conversation 'convo3':\n",
      "- salesman (Emily): I'm great, thanks for asking! I'm excited to discuss how TikTok can help your startup increase brand awareness and engagement. Could you tell me a bit about your company and your current marketing strategies? | Action: ('discuss', 'bit') | Timeframe: None\n",
      "- customer (Mark): Sure! We're a travel tech company specializing in personalized trip planning apps. Currently, we focus on digital ads and partnerships with travel influencers. | Action: None | Timeframe: None\n",
      "- salesman (Emily): Costs vary based on the influencer's reach and engagement rates. We can discuss budget options and find influencers who align with your marketing goals while delivering impactful results. | Action: ('discuss', 'results') | Timeframe: None\n",
      "- salesman (Emily): We can arrange a follow-up meeting to finalize influencer selection, discuss campaign strategies, and outline budget allocations. I'll prepare a detailed proposal for your review. | Action: ('arrange', 'strategies') | Timeframe: None\n",
      "- customer (Mark): That sounds like a plan. Let's schedule that follow-up meeting. | Action: None | Timeframe: None\n",
      "- salesman (Emily): Great! I'll send you an email with available times for next week. Thank you for your time, Mark. I'm looking forward to helping your company thrive on TikTok! | Action: ('send', 'email') | Timeframe: next week\n",
      "\n",
      "Conversation 'convo4':\n",
      "- salesman (Emily): I'm great, thanks for asking! I'm excited to discuss how TikTok can help your startup increase brand awareness and engagement. Could you tell me a bit about your company and your current marketing strategies? | Action: ('discuss', 'bit') | Timeframe: None\n",
      "- customer (Mark): Sure! We're a travel tech company specializing in personalized trip planning apps. Currently, we focus on digital ads and partnerships with travel influencers. | Action: None | Timeframe: None\n",
      "- salesman (Emily): Costs vary based on the influencer's reach and engagement rates. We can discuss budget options and find influencers who align with your marketing goals while delivering impactful results. | Action: ('discuss', 'results') | Timeframe: None\n",
      "- salesman (Emily): We can arrange a follow-up meeting to finalize influencer selection, discuss campaign strategies, and outline budget allocations. I'll prepare a detailed proposal for your review. | Action: ('arrange', 'strategies') | Timeframe: None\n",
      "- customer (Mark): That sounds like a plan. Let's schedule that follow-up meeting. | Action: None | Timeframe: None\n",
      "- salesman (Emily): Great! I'll send you an email with available times for next week. Thank you for your time, Mark. I'm looking forward to helping your company thrive on TikTok! | Action: ('send', 'email') | Timeframe: next week\n",
      "\n",
      "Conversation 'convo5':\n",
      "- salesman (Emily): I'm great, thanks! I'm excited to discuss how TikTok's advertising solutions can benefit your business. Could you tell me a bit about your business and your advertising goals? | Action: ('discuss', 'bit') | Timeframe: None\n",
      "- customer (Jessica): Not exactly. We're still in the early stages of planning our marketing strategy for the next quarter. | Action: ('plan', 'strategy') | Timeframe: the next quarter\n",
      "- salesman (Emily): I completely understand. It's important to explore all your options thoroughly. Would it be okay if I follow up with you in a few weeks to see if you've had a chance to review everything? | Action: ('follow up', 'chance') | Timeframe: a few weeks\n",
      "- customer (Jessica): That sounds good to me. I should have a clearer picture of our marketing plans by then. | Action: ('plan', 'picture') | Timeframe: None\n",
      "\n",
      "Conversation 'convo6':\n",
      "- salesman (Alex): Likewise, Emma! I'm excited to discuss how TikTok's advertising solutions can help your brand reach a wider audience and drive engagement. Could you share a bit about your business and your marketing goals? | Action: ('discuss', 'bit') | Timeframe: None\n",
      "- salesman (Alex): I'll prepare a detailed proposal for your review, including recommended ad formats, targeting options, and budget considerations. Once you've reviewed the proposal, we can schedule a call to discuss any questions or adjustments before launching your campaign. | Action: ('schedule', 'call') | Timeframe: None\n",
      "- customer (Emma): Sounds good, Alex. Please send over the proposal when it's ready. | Action: ('send', 'proposal') | Timeframe: None\n",
      "- salesman (Alex): Will do, Emma. I'll prioritize putting together the proposal and send it to you by the end of the week. Thank you for your time today, and I look forward to helping your sustainable fashion brand succeed on TikTok! | Action: ('send', 'proposal') | Timeframe: the end of the week\n",
      "\n"
     ]
    }
   ],
   "source": [
    "import spacy\n",
    "\n",
    "# Load the SpaCy English model\n",
    "nlp = spacy.load(\"en_core_web_sm\")\n",
    "\n",
    "# Define follow-up keywords\n",
    "follow_up_keywords = [\"schedule\", \"follow up\", \"set up\", \"arrange\", \"send\", \"discuss\", \"plan\"]\n",
    "\n",
    "# Function to extract follow-up actions with nouns using SpaCy\n",
    "def extract_follow_up_actions_with_nouns(convo):\n",
    "    follow_up_actions = []\n",
    "    for message in convo:\n",
    "        doc = nlp(message[\"message\"])\n",
    "        found_action = False\n",
    "        for keyword in follow_up_keywords:\n",
    "            if keyword in message[\"message\"].lower():\n",
    "                found_action = True\n",
    "                action_nouns = []\n",
    "                for token in doc:\n",
    "                    if token.dep_ == \"dobj\":  # Check if token is a direct object\n",
    "                        action_nouns.append(token.text)\n",
    "                follow_up_actions.append({\n",
    "                    \"speaker\": message[\"speaker\"],\n",
    "                    \"role\": message[\"role\"],\n",
    "                    \"message\": message[\"message\"],\n",
    "                    \"action\": keyword,\n",
    "                    \"nouns\": action_nouns,\n",
    "                    \"timeframe\": None  # Placeholder for timeframe\n",
    "\n",
    "                })\n",
    "                break  # Stop checking further keywords once a match is found\n",
    "\n",
    "        if found_action:\n",
    "            # Extract temporal entities (e.g., dates, times, durations) from the processed text\n",
    "            for ent in doc.ents:\n",
    "                if ent.label_ in [\"DATE\", \"TIME\", \"DURATION\"]:\n",
    "                    follow_up_actions[-1][\"timeframe\"] = ent.text\n",
    "                    break  # Take the first temporal entity found\n",
    "\n",
    "    return follow_up_actions\n",
    "# Example: Extract follow-up actions with nouns from each conversation in your convos dataset\n",
    "all_follow_up_actions_with_nouns = {}\n",
    "for convo_name, conversation in convos.items():\n",
    "    follow_up_actions = extract_follow_up_actions_with_nouns(conversation)\n",
    "    all_follow_up_actions_with_nouns[convo_name] = follow_up_actions\n",
    "\n",
    "# Print the extracted follow-up actions with nouns for each conversation\n",
    "for convo_name, actions in all_follow_up_actions_with_nouns.items():\n",
    "    print(f\"Conversation '{convo_name}':\")\n",
    "    for action in actions:\n",
    "        print(f\"- {action['role']} ({action['speaker']}): {action['message']} | Action: {find_best_action_noun_pair([action['action']], action['nouns'])} | Timeframe: {action['timeframe']}\")\n",
    "    print()\n"
   ]
  },
  {
   "cell_type": "code",
   "execution_count": 36,
   "metadata": {},
   "outputs": [
    {
     "name": "stdout",
     "output_type": "stream",
     "text": [
      "[{'speaker': 'Alex', 'role': 'salesman', 'message': \"I'm great, thank you! I'm excited to discuss how TikTok can help your brand reach a wider audience and drive engagement. Could you tell me a bit about your business and your current marketing strategies?\", 'action': 'discuss', 'nouns': ['you', 'engagement', 'bit'], 'timeframe': None}, {'speaker': 'Alex', 'role': 'salesman', 'message': \"We can set up a follow-up meeting with our creative and marketing teams to discuss a customized strategy for your brand. We'll also provide you with a detailed proposal outlining our recommendations and potential costs.\", 'action': 'set up', 'nouns': ['meeting', 'strategy', 'you', 'recommendations'], 'timeframe': None}, {'speaker': 'Jamie', 'role': 'customer', 'message': \"Sounds good, Alex. Let's schedule that follow-up meeting.\", 'action': 'schedule', 'nouns': [], 'timeframe': None}, {'speaker': 'Alex', 'role': 'salesman', 'message': \"Fantastic! I'll send you an email with available times for next week. Thank you for your time, Jamie. I look forward to working together to make your brand shine on TikTok!\", 'action': 'send', 'nouns': ['email', 'you'], 'timeframe': 'next week'}]\n",
      "[{'speaker': 'Sarah', 'role': 'salesman', 'message': \"Costs can vary based on the influencer's reach and engagement rates. We can discuss budget options and find influencers who fit within your marketing budget while delivering impactful results.\", 'action': 'discuss', 'nouns': ['options', 'influencers', 'results'], 'timeframe': None}, {'speaker': 'Sarah', 'role': 'salesman', 'message': 'We can schedule a follow-up meeting to discuss influencer selection, campaign strategy, and budget allocation. I’ll also prepare a proposal outlining our recommendations tailored to your specific goals.', 'action': 'schedule', 'nouns': ['meeting', 'selection', 'proposal', 'recommendations'], 'timeframe': None}, {'speaker': 'Ryan', 'role': 'customer', 'message': 'That sounds like a plan. Let’s set up that follow-up meeting.', 'action': 'set up', 'nouns': ['meeting'], 'timeframe': None}, {'speaker': 'Sarah', 'role': 'salesman', 'message': \"Excellent! I'll send you an email with available times for next week. Thank you for your time, Ryan. I look forward to helping your app gain traction on TikTok!\", 'action': 'send', 'nouns': ['email', 'you', 'traction'], 'timeframe': 'next week'}]\n",
      "[{'speaker': 'Emily', 'role': 'salesman', 'message': \"I'm great, thanks for asking! I'm excited to discuss how TikTok can help your startup increase brand awareness and engagement. Could you tell me a bit about your company and your current marketing strategies?\", 'action': 'discuss', 'nouns': ['awareness', 'bit'], 'timeframe': None}, {'speaker': 'Mark', 'role': 'customer', 'message': \"Sure! We're a travel tech company specializing in personalized trip planning apps. Currently, we focus on digital ads and partnerships with travel influencers.\", 'action': 'plan', 'nouns': [], 'timeframe': None}, {'speaker': 'Emily', 'role': 'salesman', 'message': \"Costs vary based on the influencer's reach and engagement rates. We can discuss budget options and find influencers who align with your marketing goals while delivering impactful results.\", 'action': 'discuss', 'nouns': ['options', 'influencers', 'results'], 'timeframe': None}, {'speaker': 'Emily', 'role': 'salesman', 'message': \"We can arrange a follow-up meeting to finalize influencer selection, discuss campaign strategies, and outline budget allocations. I'll prepare a detailed proposal for your review.\", 'action': 'arrange', 'nouns': ['meeting', 'selection', 'strategies', 'allocations', 'proposal'], 'timeframe': None}, {'speaker': 'Mark', 'role': 'customer', 'message': \"That sounds like a plan. Let's schedule that follow-up meeting.\", 'action': 'schedule', 'nouns': [], 'timeframe': None}, {'speaker': 'Emily', 'role': 'salesman', 'message': \"Great! I'll send you an email with available times for next week. Thank you for your time, Mark. I'm looking forward to helping your company thrive on TikTok!\", 'action': 'send', 'nouns': ['email', 'you'], 'timeframe': 'next week'}]\n",
      "[{'speaker': 'Emily', 'role': 'salesman', 'message': \"I'm great, thanks for asking! I'm excited to discuss how TikTok can help your startup increase brand awareness and engagement. Could you tell me a bit about your company and your current marketing strategies?\", 'action': 'discuss', 'nouns': ['awareness', 'bit'], 'timeframe': None}, {'speaker': 'Mark', 'role': 'customer', 'message': \"Sure! We're a travel tech company specializing in personalized trip planning apps. Currently, we focus on digital ads and partnerships with travel influencers.\", 'action': 'plan', 'nouns': [], 'timeframe': None}, {'speaker': 'Emily', 'role': 'salesman', 'message': \"Costs vary based on the influencer's reach and engagement rates. We can discuss budget options and find influencers who align with your marketing goals while delivering impactful results.\", 'action': 'discuss', 'nouns': ['options', 'influencers', 'results'], 'timeframe': None}, {'speaker': 'Emily', 'role': 'salesman', 'message': \"We can arrange a follow-up meeting to finalize influencer selection, discuss campaign strategies, and outline budget allocations. I'll prepare a detailed proposal for your review.\", 'action': 'arrange', 'nouns': ['meeting', 'selection', 'strategies', 'allocations', 'proposal'], 'timeframe': None}, {'speaker': 'Mark', 'role': 'customer', 'message': \"That sounds like a plan. Let's schedule that follow-up meeting.\", 'action': 'schedule', 'nouns': [], 'timeframe': None}, {'speaker': 'Emily', 'role': 'salesman', 'message': \"Great! I'll send you an email with available times for next week. Thank you for your time, Mark. I'm looking forward to helping your company thrive on TikTok!\", 'action': 'send', 'nouns': ['email', 'you'], 'timeframe': 'next week'}]\n",
      "[{'speaker': 'Emily', 'role': 'salesman', 'message': \"I'm great, thanks! I'm excited to discuss how TikTok's advertising solutions can benefit your business. Could you tell me a bit about your business and your advertising goals?\", 'action': 'discuss', 'nouns': ['business', 'bit'], 'timeframe': None}, {'speaker': 'Jessica', 'role': 'customer', 'message': \"Not exactly. We're still in the early stages of planning our marketing strategy for the next quarter.\", 'action': 'plan', 'nouns': ['strategy'], 'timeframe': 'the next quarter'}, {'speaker': 'Emily', 'role': 'salesman', 'message': \"I completely understand. It's important to explore all your options thoroughly. Would it be okay if I follow up with you in a few weeks to see if you've had a chance to review everything?\", 'action': 'follow up', 'nouns': ['options', 'chance', 'everything'], 'timeframe': 'a few weeks'}, {'speaker': 'Jessica', 'role': 'customer', 'message': 'That sounds good to me. I should have a clearer picture of our marketing plans by then.', 'action': 'plan', 'nouns': ['picture'], 'timeframe': None}]\n",
      "[{'speaker': 'Alex', 'role': 'salesman', 'message': \"Likewise, Emma! I'm excited to discuss how TikTok's advertising solutions can help your brand reach a wider audience and drive engagement. Could you share a bit about your business and your marketing goals?\", 'action': 'discuss', 'nouns': ['engagement', 'bit'], 'timeframe': None}, {'speaker': 'Alex', 'role': 'salesman', 'message': \"I'll prepare a detailed proposal for your review, including recommended ad formats, targeting options, and budget considerations. Once you've reviewed the proposal, we can schedule a call to discuss any questions or adjustments before launching your campaign.\", 'action': 'schedule', 'nouns': ['proposal', 'proposal', 'call', 'questions', 'campaign'], 'timeframe': None}, {'speaker': 'Emma', 'role': 'customer', 'message': \"Sounds good, Alex. Please send over the proposal when it's ready.\", 'action': 'send', 'nouns': ['proposal'], 'timeframe': None}, {'speaker': 'Alex', 'role': 'salesman', 'message': \"Will do, Emma. I'll prioritize putting together the proposal and send it to you by the end of the week. Thank you for your time today, and I look forward to helping your sustainable fashion brand succeed on TikTok!\", 'action': 'send', 'nouns': ['proposal', 'it', 'you'], 'timeframe': 'the end of the week'}]\n"
     ]
    }
   ],
   "source": [
    "for convo_name, actions in all_follow_up_actions_with_nouns.items():\n",
    "    print(actions)"
   ]
  }
 ],
 "metadata": {
  "kernelspec": {
   "display_name": "base",
   "language": "python",
   "name": "python3"
  },
  "language_info": {
   "codemirror_mode": {
    "name": "ipython",
    "version": 3
   },
   "file_extension": ".py",
   "mimetype": "text/x-python",
   "name": "python",
   "nbconvert_exporter": "python",
   "pygments_lexer": "ipython3",
   "version": "3.11.4"
  }
 },
 "nbformat": 4,
 "nbformat_minor": 2
}
