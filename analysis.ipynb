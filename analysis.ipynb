{
 "cells": [
  {
   "cell_type": "code",
   "execution_count": 1,
   "metadata": {},
   "outputs": [
    {
     "name": "stderr",
     "output_type": "stream",
     "text": [
      "c:\\Users\\user\\AppData\\Local\\Programs\\Python\\Python310\\lib\\site-packages\\tqdm\\auto.py:21: TqdmWarning: IProgress not found. Please update jupyter and ipywidgets. See https://ipywidgets.readthedocs.io/en/stable/user_install.html\n",
      "  from .autonotebook import tqdm as notebook_tqdm\n"
     ]
    }
   ],
   "source": [
    "%run functions.py\n",
    "%run models.py"
   ]
  },
  {
   "cell_type": "code",
   "execution_count": 2,
   "metadata": {},
   "outputs": [],
   "source": [
    "from datasets import load_dataset\n",
    "\n",
    "ds = load_dataset(\"goendalf666/sales-conversations-instruction-customer\")"
   ]
  },
  {
   "cell_type": "code",
   "execution_count": 3,
   "metadata": {},
   "outputs": [],
   "source": [
    "full_ds = keep_full_convos(ds)"
   ]
  },
  {
   "cell_type": "code",
   "execution_count": 4,
   "metadata": {},
   "outputs": [],
   "source": [
    "train_set, test_set = split_train_test(full_ds)"
   ]
  },
  {
   "cell_type": "code",
   "execution_count": 5,
   "metadata": {},
   "outputs": [
    {
     "data": {
      "text/plain": [
       "['Customer: Can you please explain to me how this product works? Salesman: Certainly! This product is designed to simplify your workflow by automating repetitive tasks. It uses advanced algorithms to analyze data and generate actionable insights, saving you time and effort. Customer: Im not sure if this service is worth the price. Can you explain its benefits to me? Salesman: Absolutely! This service offers numerous benefits, such as increased productivity, improved efficiency, and cost savings. It integrates seamlessly with your existing systems and provides real-time analytics, allowing you to make data-driven decisions and stay ahead of the competition. Customer: I have a limited technical background. Can you explain this feature in simpler terms? Salesman: Of course! Let me break it down for you. This feature essentially streamlines your customer support process by automating ticket management and routing. It ensures that customer inquiries are efficiently handled and assigned to the most appropriate team member, resulting in faster response times and improved customer satisfaction. Customer: Im overwhelmed with all the information. Can you give me a concise summary of the benefits? Salesman: Absolutely! This product offers time savings, increased efficiency, and improved decision-making through advanced analytics. It simplifies your processes and helps you stay competitive in todays fast-paced business environment. Customer: Can you give me an example of how this software can benefit my team? Salesman: Certainly! Imagine your team spends hours manually generating reports. With our software, you can automate this process, saving valuable time and reducing the risk of human error. This allows your team to focus on more strategic tasks and make better-informed decisions based on accurate and up-to-date data. \\n\\n                    Answer as a Customer to the Salesman.\\n                    Customer: Im concerned about the learning curve. Can you reassure me that its easy to use?',\n",
       " 'Customer: Im interested in your product, but I dont have much time. Can you give me a concise overview? Salesman: Of course! Our product is designed to streamline processes and increase efficiency. It offers a user-friendly interface with advanced features. Would you like me to provide more details? Customer: Im comparing different options. Can you highlight the key points that differentiate your product? Salesman: Certainly! Our product stands out for its scalability, customizable features, and exceptional customer support. These factors make it a reliable and flexible solution for businesses of all sizes. Customer: Im not very tech-savvy. Can you explain the product in simple terms? Salesman: Absolutely! Our product simplifies complex tasks by automating processes and providing intuitive navigation. You dont need any technical expertise to use it effectively. Customer: Im interested in your product, but I want to make sure it meets my requirements. How can I be sure? Salesman: I completely understand your concern. Lets go over your specific requirements, and Ill demonstrate how our product addresses them. This way, you can make an informed decision based on your needs. Customer: Im looking for a solution that offers tangible results. How can your product deliver that? Salesman: Great question! Our product has a proven track record of helping businesses increase productivity by X% and reduce costs by X%. We have case studies and testimonials to support these claims. \\n\\n                    Answer as a Customer to the Salesman.\\n                    Customer: Im not sure if your product is the right fit. Can you summarize the benefits for me?',\n",
       " 'Customer: Hi, Im interested in learning more about your tech product. Can you tell me about its features? Salesman: Absolutely! Our tech product offers a wide range of features that cater to different needs. It has advanced security measures, seamless integration with various platforms, and a user-friendly interface. Customer: Im not very tech-savvy. Will I be able to use your software without any difficulties? Salesman: Definitely! Our software is designed to be user-friendly and accessible to all levels of technical expertise. We have a dedicated support team that can assist you with any questions or concerns along the way. Customer: Ive heard mixed reviews about your company. Can you provide any evidence or statistics that prove the value of your product? Salesman: Certainly! We have conducted extensive research and customer satisfaction surveys that consistently show positive results. Additionally, we have a portfolio of successful case studies that demonstrate the tangible benefits our product has provided to our clients. Customer: Im concerned about the price of your tech product. Is it worth the investment? Salesman: I understand your concerns about pricing. Let me explain the value proposition of our product. By investing in our tech product, youll gain access to a wide range of features and benefits that will significantly streamline your operations and increase your productivity. The return on investment is often realized in a relatively short time. Customer: Im not sure if your tech product is the right fit for my specific industry. Can you provide any examples of how it has been successfully utilized in similar industries? Salesman: Absolutely! We have worked with various industries, including tech, healthcare, finance, and manufacturing, to name a few. Our product has consistently delivered positive results and improved efficiency across these sectors. I can provide you with specific case studies and testimonials from clients in your industry to showcase its effectiveness. \\n\\n                    Answer as a Customer to the Salesman.\\n                    Customer: I have some concerns about the security of your software. How can you assure me that its secure?',\n",
       " 'Customer: Im interested in this new health product. Can you tell me more about it? Salesman: Certainly! This health product is designed to improve overall well-being and boost energy levels. It contains a unique blend of natural ingredients that have been scientifically proven to have various health benefits. Customer: Im not very familiar with scientific terms. Could you explain in simpler terms how this product works? Salesman: Absolutely! This product works by providing essential nutrients and antioxidants to support your bodys natural functions. It helps to promote a healthy immune system, improve digestion, and increase vitality. Customer: I come from a culture where hierarchy is important in conversation. How should I approach discussing this product with my elders? Salesman: Thats a great question! In conversations with elders, its important to show respect and use a formal tone. You can emphasize the benefits of the product while being polite and attentive to their preferences. Its also essential to listen actively and give them space to share their thoughts. Customer: I prefer a more direct and straightforward approach. Can you provide me with the key facts and benefits of this product? Salesman: Absolutely! This product has been clinically tested and shown to improve energy levels, support mental clarity, and promote better sleep. Its made from all-natural ingredients and is free from any artificial additives or preservatives. Customer: I appreciate a warm and friendly approach. How can you make the conversation more personable? Salesman: Of course! Im here to help and answer any questions you may have. I understand that trying a new health product can be exciting, and Im here to support you throughout your journey. Feel free to ask me anything, and Ill do my best to assist you. \\n\\n                    Answer as a Customer to the Salesman.\\n                    Customer: Ive heard mixed reviews about this product. How can you address any concerns or doubts I may have?',\n",
       " 'Customer: Im looking for a financial product that can help me save for retirement. Salesman: Thats great to hear! Could you tell me a bit more about your current financial situation and your long-term goals? Customer: Im interested in investing in the stock market, but Im not sure where to start. Salesman: Id be happy to help you with that. Could you share your level of experience with investing and what your objectives are? Customer: Im considering applying for a loan to start a business. What information do you need from me? Salesman: Thank you for considering our services. Can you provide some details about your business plan and your financial projections? Customer: Im in the market for a new car, but Im not sure if I can afford it. What should I consider? Salesman: I can assist you with that. Could you give me an idea of your budget and any specific features youre looking for in a car? Customer: Ive been having trouble managing my personal finances and saving money. Any advice? Salesman: Id be happy to offer some guidance. Can you tell me more about your spending habits and financial goals? \\n\\n                    Answer as a Customer to the Salesman.\\n                    Customer: I want to start investing in real estate. What should I know before getting started?']"
      ]
     },
     "execution_count": 5,
     "metadata": {},
     "output_type": "execute_result"
    }
   ],
   "source": [
    "train_set[:5]"
   ]
  },
  {
   "cell_type": "code",
   "execution_count": 6,
   "metadata": {},
   "outputs": [],
   "source": [
    "test = train_set[0]"
   ]
  },
  {
   "cell_type": "code",
   "execution_count": 7,
   "metadata": {},
   "outputs": [],
   "source": [
    "dict_test = split_cust_sales(test)"
   ]
  },
  {
   "cell_type": "code",
   "execution_count": 8,
   "metadata": {},
   "outputs": [],
   "source": [
    "full_text_cust, full_text_sales = dict_test['full']\n",
    "split_text_cust, split_text_sales = dict_test['split']"
   ]
  },
  {
   "cell_type": "code",
   "execution_count": 9,
   "metadata": {},
   "outputs": [
    {
     "name": "stdout",
     "output_type": "stream",
     "text": [
      "Before: Customer says to salesman: Certainly! This product is designed to simplify your workflow by automating repetitive tasks. It uses advanced algorithms to analyze data and generate actionable insights, saving you time and effort.\n",
      "Absolutely! This service offers numerous benefits, such as increased productivity, improved efficiency, and cost savings. It integrates seamlessly with your existing systems and provides real-time analytics, allowing you to make data-driven decisions and stay ahead of the competition.\n",
      "Of course! Let me break it down for you. This feature essentially streamlines your customer support process by automating ticket management and routing. It ensures that customer inquiries are efficiently handled and assigned to the most appropriate team member, resulting in faster response times and improved customer satisfaction.\n",
      "Absolutely! This product offers time savings, increased efficiency, and improved decision-making through advanced analytics. It simplifies your processes and helps you stay competitive in todays fast-paced business environment.\n",
      "Certainly! Imagine your team spends hours manually generating reports. With our software, you can automate this process, saving valuable time and reducing the risk of human error. This allows your team to focus on more strategic tasks and make better-informed decisions based on accurate and up-to-date data. \n",
      "\n",
      "                    Answer as a Customer to the Salesman.\n",
      "-------\n",
      "After: Customer says to the salesman: Certainly! This product is designed to simplify your workflow by automating repetitive tasks. It provides real-time analytics and helps you stay ahead of the competition. It also streamlines the customer support process by managing ticket management and routing.\n"
     ]
    }
   ],
   "source": [
    "print(\"Before:\", full_text_cust)\n",
    "print(\"-------\")\n",
    "print(\"After:\", summarise(full_text_cust))"
   ]
  },
  {
   "cell_type": "code",
   "execution_count": 10,
   "metadata": {},
   "outputs": [
    {
     "data": {
      "text/plain": [
       "['Certainly! This product is designed to simplify your workflow by automating repetitive tasks. It uses advanced algorithms to analyze data and generate actionable insights, saving you time and effort.',\n",
       " 'Absolutely! This service offers numerous benefits, such as increased productivity, improved efficiency, and cost savings. It integrates seamlessly with your existing systems and provides real-time analytics, allowing you to make data-driven decisions and stay ahead of the competition.',\n",
       " 'Of course! Let me break it down for you. This feature essentially streamlines your customer support process by automating ticket management and routing. It ensures that customer inquiries are efficiently handled and assigned to the most appropriate team member, resulting in faster response times and improved customer satisfaction.',\n",
       " 'Absolutely! This product offers time savings, increased efficiency, and improved decision-making through advanced analytics. It simplifies your processes and helps you stay competitive in todays fast-paced business environment.',\n",
       " 'Certainly! Imagine your team spends hours manually generating reports. With our software, you can automate this process, saving valuable time and reducing the risk of human error. This allows your team to focus on more strategic tasks and make better-informed decisions based on accurate and up-to-date data. \\n\\n                    Answer as a Customer to the Salesman.']"
      ]
     },
     "execution_count": 10,
     "metadata": {},
     "output_type": "execute_result"
    }
   ],
   "source": [
    "split_text_cust"
   ]
  },
  {
   "cell_type": "code",
   "execution_count": 11,
   "metadata": {},
   "outputs": [
    {
     "name": "stdout",
     "output_type": "stream",
     "text": [
      "Certainly! This product is designed to simplify your workflow by automating repetitive tasks. It uses advanced algorithms to analyze data and generate actionable insights, saving you time and effort. | Prediction: neutral\n",
      "Absolutely! This service offers numerous benefits, such as increased productivity, improved efficiency, and cost savings. It integrates seamlessly with your existing systems and provides real-time analytics, allowing you to make data-driven decisions and stay ahead of the competition. | Prediction: neutral\n",
      "Of course! Let me break it down for you. This feature essentially streamlines your customer support process by automating ticket management and routing. It ensures that customer inquiries are efficiently handled and assigned to the most appropriate team member, resulting in faster response times and improved customer satisfaction. | Prediction: neutral\n",
      "Absolutely! This product offers time savings, increased efficiency, and improved decision-making through advanced analytics. It simplifies your processes and helps you stay competitive in todays fast-paced business environment. | Prediction: neutral\n",
      "Certainly! Imagine your team spends hours manually generating reports. With our software, you can automate this process, saving valuable time and reducing the risk of human error. This allows your team to focus on more strategic tasks and make better-informed decisions based on accurate and up-to-date data. \n",
      "\n",
      "                    Answer as a Customer to the Salesman. | Prediction: neutral\n"
     ]
    }
   ],
   "source": [
    "for line in split_text_cust:\n",
    "    print(f\"{line} | Prediction: {analyze_sentiment(line)}\")"
   ]
  },
  {
   "cell_type": "code",
   "execution_count": 12,
   "metadata": {},
   "outputs": [
    {
     "data": {
      "text/plain": [
       "'Automated repetitive tasks, advanced algorithms, data analysis, productivity, efficiency, cost savings, real-time analytics, data-driven decisions, customer support process, ticket management, customer inquiries, faster response times, customer satisfaction,'"
      ]
     },
     "execution_count": 12,
     "metadata": {},
     "output_type": "execute_result"
    }
   ],
   "source": [
    "extract_keywords(full_text_cust)"
   ]
  },
  {
   "cell_type": "code",
   "execution_count": 13,
   "metadata": {},
   "outputs": [
    {
     "data": {
      "text/plain": [
       "['Customer: Can you please explain to me how this product works? Salesman: Certainly! This product is designed to simplify your workflow by automating repetitive tasks. It uses advanced algorithms to analyze data and generate actionable insights, saving you time and effort. Customer: Im not sure if this service is worth the price. Can you explain its benefits to me? Salesman: Absolutely! This service offers numerous benefits, such as increased productivity, improved efficiency, and cost savings. It integrates seamlessly with your existing systems and provides real-time analytics, allowing you to make data-driven decisions and stay ahead of the competition. Customer: I have a limited technical background. Can you explain this feature in simpler terms? Salesman: Of course! Let me break it down for you. This feature essentially streamlines your customer support process by automating ticket management and routing. It ensures that customer inquiries are efficiently handled and assigned to the most appropriate team member, resulting in faster response times and improved customer satisfaction. Customer: Im overwhelmed with all the information. Can you give me a concise summary of the benefits? Salesman: Absolutely! This product offers time savings, increased efficiency, and improved decision-making through advanced analytics. It simplifies your processes and helps you stay competitive in todays fast-paced business environment. Customer: Can you give me an example of how this software can benefit my team? Salesman: Certainly! Imagine your team spends hours manually generating reports. With our software, you can automate this process, saving valuable time and reducing the risk of human error. This allows your team to focus on more strategic tasks and make better-informed decisions based on accurate and up-to-date data. \\n\\n                    Answer as a Customer to the Salesman.\\n                    Customer: Im concerned about the learning curve. Can you reassure me that its easy to use?',\n",
       " 'Customer: Im interested in your product, but I dont have much time. Can you give me a concise overview? Salesman: Of course! Our product is designed to streamline processes and increase efficiency. It offers a user-friendly interface with advanced features. Would you like me to provide more details? Customer: Im comparing different options. Can you highlight the key points that differentiate your product? Salesman: Certainly! Our product stands out for its scalability, customizable features, and exceptional customer support. These factors make it a reliable and flexible solution for businesses of all sizes. Customer: Im not very tech-savvy. Can you explain the product in simple terms? Salesman: Absolutely! Our product simplifies complex tasks by automating processes and providing intuitive navigation. You dont need any technical expertise to use it effectively. Customer: Im interested in your product, but I want to make sure it meets my requirements. How can I be sure? Salesman: I completely understand your concern. Lets go over your specific requirements, and Ill demonstrate how our product addresses them. This way, you can make an informed decision based on your needs. Customer: Im looking for a solution that offers tangible results. How can your product deliver that? Salesman: Great question! Our product has a proven track record of helping businesses increase productivity by X% and reduce costs by X%. We have case studies and testimonials to support these claims. \\n\\n                    Answer as a Customer to the Salesman.\\n                    Customer: Im not sure if your product is the right fit. Can you summarize the benefits for me?',\n",
       " 'Customer: Hi, Im interested in learning more about your tech product. Can you tell me about its features? Salesman: Absolutely! Our tech product offers a wide range of features that cater to different needs. It has advanced security measures, seamless integration with various platforms, and a user-friendly interface. Customer: Im not very tech-savvy. Will I be able to use your software without any difficulties? Salesman: Definitely! Our software is designed to be user-friendly and accessible to all levels of technical expertise. We have a dedicated support team that can assist you with any questions or concerns along the way. Customer: Ive heard mixed reviews about your company. Can you provide any evidence or statistics that prove the value of your product? Salesman: Certainly! We have conducted extensive research and customer satisfaction surveys that consistently show positive results. Additionally, we have a portfolio of successful case studies that demonstrate the tangible benefits our product has provided to our clients. Customer: Im concerned about the price of your tech product. Is it worth the investment? Salesman: I understand your concerns about pricing. Let me explain the value proposition of our product. By investing in our tech product, youll gain access to a wide range of features and benefits that will significantly streamline your operations and increase your productivity. The return on investment is often realized in a relatively short time. Customer: Im not sure if your tech product is the right fit for my specific industry. Can you provide any examples of how it has been successfully utilized in similar industries? Salesman: Absolutely! We have worked with various industries, including tech, healthcare, finance, and manufacturing, to name a few. Our product has consistently delivered positive results and improved efficiency across these sectors. I can provide you with specific case studies and testimonials from clients in your industry to showcase its effectiveness. \\n\\n                    Answer as a Customer to the Salesman.\\n                    Customer: I have some concerns about the security of your software. How can you assure me that its secure?',\n",
       " 'Customer: Im interested in this new health product. Can you tell me more about it? Salesman: Certainly! This health product is designed to improve overall well-being and boost energy levels. It contains a unique blend of natural ingredients that have been scientifically proven to have various health benefits. Customer: Im not very familiar with scientific terms. Could you explain in simpler terms how this product works? Salesman: Absolutely! This product works by providing essential nutrients and antioxidants to support your bodys natural functions. It helps to promote a healthy immune system, improve digestion, and increase vitality. Customer: I come from a culture where hierarchy is important in conversation. How should I approach discussing this product with my elders? Salesman: Thats a great question! In conversations with elders, its important to show respect and use a formal tone. You can emphasize the benefits of the product while being polite and attentive to their preferences. Its also essential to listen actively and give them space to share their thoughts. Customer: I prefer a more direct and straightforward approach. Can you provide me with the key facts and benefits of this product? Salesman: Absolutely! This product has been clinically tested and shown to improve energy levels, support mental clarity, and promote better sleep. Its made from all-natural ingredients and is free from any artificial additives or preservatives. Customer: I appreciate a warm and friendly approach. How can you make the conversation more personable? Salesman: Of course! Im here to help and answer any questions you may have. I understand that trying a new health product can be exciting, and Im here to support you throughout your journey. Feel free to ask me anything, and Ill do my best to assist you. \\n\\n                    Answer as a Customer to the Salesman.\\n                    Customer: Ive heard mixed reviews about this product. How can you address any concerns or doubts I may have?',\n",
       " 'Customer: Im looking for a financial product that can help me save for retirement. Salesman: Thats great to hear! Could you tell me a bit more about your current financial situation and your long-term goals? Customer: Im interested in investing in the stock market, but Im not sure where to start. Salesman: Id be happy to help you with that. Could you share your level of experience with investing and what your objectives are? Customer: Im considering applying for a loan to start a business. What information do you need from me? Salesman: Thank you for considering our services. Can you provide some details about your business plan and your financial projections? Customer: Im in the market for a new car, but Im not sure if I can afford it. What should I consider? Salesman: I can assist you with that. Could you give me an idea of your budget and any specific features youre looking for in a car? Customer: Ive been having trouble managing my personal finances and saving money. Any advice? Salesman: Id be happy to offer some guidance. Can you tell me more about your spending habits and financial goals? \\n\\n                    Answer as a Customer to the Salesman.\\n                    Customer: I want to start investing in real estate. What should I know before getting started?']"
      ]
     },
     "execution_count": 13,
     "metadata": {},
     "output_type": "execute_result"
    }
   ],
   "source": [
    "train_set[:5]"
   ]
  },
  {
   "cell_type": "code",
   "execution_count": 14,
   "metadata": {},
   "outputs": [
    {
     "name": "stdout",
     "output_type": "stream",
     "text": [
      "                                           Conversation  Cluster\n",
      "0     Customer: Can you please explain to me how thi...        2\n",
      "1     Customer: Im interested in your product, but I...        2\n",
      "2     Customer: Hi, Im interested in learning more a...        2\n",
      "3     Customer: Im interested in this new health pro...        2\n",
      "4     Customer: Im looking for a financial product t...        0\n",
      "...                                                 ...      ...\n",
      "2723  Customer: Im interested in your financial prod...        0\n",
      "2724  Customer: Im interested in your health supplem...        1\n",
      "2725  Customer: Hi, Im interested in your health pro...        1\n",
      "2726  Customer: Hi, Im looking for a new health supp...        1\n",
      "2727  Customer: Im interested in your product, but I...        2\n",
      "\n",
      "[2728 rows x 2 columns]\n"
     ]
    }
   ],
   "source": [
    "import pandas as pd\n",
    "from sklearn.feature_extraction.text import TfidfVectorizer\n",
    "from sklearn.cluster import KMeans\n",
    "from nltk.corpus import stopwords\n",
    "from nltk.tokenize import word_tokenize\n",
    "import string\n",
    "\n",
    "# Sample dataset of conversations\n",
    "data = train_set\n",
    "\n",
    "# Preprocessing function\n",
    "def preprocess_text(text):\n",
    "    # Tokenize text\n",
    "    tokens = word_tokenize(text.lower())\n",
    "    \n",
    "    # Remove stopwords and punctuation\n",
    "    stop_words = set(stopwords.words('english'))\n",
    "    tokens = [token for token in tokens if token not in stop_words and token not in string.punctuation]\n",
    "    \n",
    "    # Join tokens back into a string\n",
    "    processed_text = ' '.join(tokens)\n",
    "    \n",
    "    return processed_text\n",
    "\n",
    "# Preprocess each conversation\n",
    "processed_data = [preprocess_text(conv) for conv in data]\n",
    "\n",
    "# TF-IDF Vectorization\n",
    "vectorizer = TfidfVectorizer()\n",
    "X = vectorizer.fit_transform(processed_data)\n",
    "\n",
    "# Clustering with K-means\n",
    "num_clusters = 3  # Number of clusters (you can adjust this)\n",
    "kmeans = KMeans(n_clusters=num_clusters, random_state=0)\n",
    "clusters = kmeans.fit_predict(X)\n",
    "\n",
    "# Assign clusters to original data\n",
    "clustered_data = pd.DataFrame({'Conversation': data, 'Cluster': clusters})\n",
    "\n",
    "# Display the clustered data\n",
    "print(clustered_data)\n"
   ]
  },
  {
   "cell_type": "code",
   "execution_count": 15,
   "metadata": {},
   "outputs": [
    {
     "name": "stdout",
     "output_type": "stream",
     "text": [
      "Customer: Im interested in improving my overall health and wellness. Salesman: Thats great to hear! Tell me more about what specific areas youd like to focus on. Customer: I have been feeling very tired lately and Im looking for ways to boost my energy levels. Salesman: I understand how important it is to have enough energy throughout the day. Can you share any specific challenges youre facing in terms of feeling tired? Customer: Ive been experiencing back pain and Im wondering if there are any products or solutions that could help alleviate it. Salesman: Im sorry to hear about your back pain. Understanding the cause of the pain and finding the right solution is crucial. Can you provide more details about the type of pain and any activities that may worsen it? Customer: Im concerned about my weight and I want to find a sustainable way to lose some pounds. Salesman: Weight management is a common concern for many people. Its important to find a sustainable approach. Can you tell me more about your current lifestyle habits and any challenges youve faced in the past when it comes to weight loss? Customer: Im looking for natural remedies to relieve stress and anxiety. Salesman: Stress and anxiety can have a significant impact on our well-being. There are natural remedies available. Can you share more about what triggers your stress and any previous methods youve tried to manage it? \n",
      "\n",
      "                    Answer as a Customer to the Salesman.\n",
      "                    Customer: I want to improve my sleep quality. Are there any products or techniques that can help?\n",
      "Customer: Ive been having some issues with my current softwares compatibility. Its been causing a lot of problems. Salesman: If I understand correctly, you mentioned that you are facing challenges with your current softwares compatibility. Is that correct? Customer: Yes, thats right. Its been frustrating trying to get everything to work properly. Salesman: I can understand how frustrating that must be. Could you describe the specific challenges youre facing and how its impacting your daily operations? Customer: Well, the software often crashes and its causing delays in our workflow. Its affecting our productivity and efficiency. Salesman: I see. So, the crashes and delays are impacting your overall productivity. Thats definitely a pain point we can address with our solutions. Customer: Absolutely. If we can find a software that is more reliable and compatible, it would greatly improve our operations. Salesman: I completely understand. We have software solutions that are known for their compatibility and reliability. Let me show you how they can address your specific pain points. Customer: That sounds promising. Im eager to learn more about your solutions and how they can help us overcome these challenges. Salesman: Im glad to hear that. Lets dive into the details and find the perfect solution for your business. Customer: Thank you for taking the time to listen to my concerns. Its refreshing to work with someone who truly understands our needs. Salesman: Youre welcome. I believe that actively listening to our customers is essential in providing the best solutions. Im here to help. \n",
      "\n",
      "                    Answer as a Customer to the Salesman.\n",
      "                    Customer: I have some questions about the implementation process. How long does it usually take to set up the new software?\n",
      "Customer: Hi, Im interested in your health products. Can you tell me more about them? Salesman: Of course! Our health products are designed to improve overall well-being and address specific health concerns. What specific area are you looking to improve? Customer: Ive been experiencing digestive issues lately. Do you have any products that can help with that? Salesman: Absolutely. We have a range of digestive health supplements that can support a healthy digestive system. Let me provide you with more information on those. Customer: Im concerned about the ingredients used in your products. Are they all natural? Salesman: Great question. We prioritize using natural ingredients in our products to ensure their effectiveness and safety. Let me give you a detailed breakdown of the ingredients we use. Customer: Ive had bad experiences with pushy salespeople before. Can I expect a pressure-free environment here? Salesman: Absolutely. We understand the importance of a positive sales experience, so our approach is based on understanding your needs and providing personalized solutions. You wont feel any pressure from us. Customer: Im looking for a product that can boost my energy levels. Any recommendations? Salesman: Certainly! We have several energy-boosting supplements that can help improve your vitality and stamina. Lets discuss your specific requirements so I can suggest the most suitable option. \n",
      "\n",
      "                    Answer as a Customer to the Salesman.\n",
      "                    Customer: I appreciate when salespeople take the time to get to know me. Do you value building personal connections with customers?\n",
      "Customer: Hi, Im interested in purchasing a new laptop. Could you help me find the right one? Salesman: Of course! Id be happy to assist you. What specific requirements do you have for a laptop? Customer: Im looking for a laptop with a long battery life and enough storage for my files. Any recommendations? Salesman: Absolutely! I can suggest a few models that meet your criteria. How about a laptop with an SSD for faster storage access and a high-capacity battery life? Customer: Im concerned about the weight of the laptop. I need something lightweight for easy portability. Do you have any options? Salesman: Definitely! We have several lightweight laptops that are perfect for your needs. They are sleek, compact, and easy to carry around without compromising performance. Customer: Im not very familiar with the latest technology. Can you explain the differences between different processors? Salesman: Certainly! Processors play a crucial role in a laptops performance. Let me break it down for you and recommend the best option based on your usage requirements. Customer: Im looking for a laptop that can handle graphic-intensive tasks like video editing. Any suggestions? Salesman: Absolutely! For graphic-intensive tasks, I recommend a laptop with a powerful processor and dedicated graphics card. This combination will ensure smooth performance and quick rendering times. \n",
      "\n",
      "                    Answer as a Customer to the Salesman.\n",
      "                    Customer: Im concerned about the security of my data. Are there any additional features I should look for?\n",
      "Customer: Im interested in learning more about your health supplements. Can you explain the benefits to me? Salesman: Of course! Our health supplements are designed to improve overall well-being. They provide essential nutrients and support immune function. By taking them regularly, you can experience increased energy levels and improved digestion. Customer: There are so many options out there. What sets your health supplements apart from the others? Salesman: Great question! Our health supplements are formulated using the latest scientific research and high-quality ingredients. They are backed by clinical studies that demonstrate their effectiveness in promoting various health benefits. Additionally, our supplements are manufactured in FDA-approved facilities to ensure safety and quality. Customer: Im not sure if I really need these supplements. Can you explain the key points to convince me? Salesman: Absolutely! Our health supplements provide essential nutrients that are often lacking in our diets. They fill the nutritional gaps and support overall health. They are also formulated to target specific health concerns, such as boosting immune function or improving joint health. By taking our supplements, you can optimize your well-being and prevent deficiencies. Customer: I find some health supplements confusing with all the jargon. Can you explain in simpler terms? Salesman: Of course! Our health supplements are made with ingredients that are easy for your body to absorb and utilize. They contain nutrients like vitamins, minerals, and antioxidants that support your bodys natural functions. Simply put, they provide the necessary building blocks for good health. Customer: I need more information about your health supplements. Can you provide some supporting materials? Salesman: Absolutely! I have brochures and case studies that provide detailed information about our health supplements. These materials will give you a better understanding of how our products work and the benefits they offer. Let me provide you with these materials so you can review them at your convenience. \n",
      "\n",
      "                    Answer as a Customer to the Salesman.\n",
      "                    Customer: Im not convinced yet. Can you give me a clear call to action on why I should purchase your health supplements?\n",
      "Customer: Can you explain to me how this product can help improve my health? Salesman: Of course! This product is specifically designed to address common health concerns such as boosting immunity, increasing energy levels, and supporting overall well-being. By incorporating its unique blend of natural ingredients, it can provide the essential nutrients your body needs to maintain optimal health. Customer: Im not sure I understand how this service can benefit me. Can you explain in simpler terms? Salesman: Absolutely! This service offers personalized health coaching to help you achieve your health goals. Our expert coaches will work closely with you to create a customized plan tailored to your specific needs and preferences. They will provide guidance, support, and accountability to help you make positive lifestyle changes and improve your overall well-being. Customer: I have a limited background in health. Can you explain this concept in a way thats easy for me to understand? Salesman: Certainly! Let me break it down for you in simpler terms. This product works by targeting key areas of your body that impact your health, such as your immune system, energy levels, and overall vitality. By providing the necessary nutrients and support, it helps your body function optimally and promotes a healthier and balanced lifestyle. Customer: There are so many products out there. What makes this one different? Salesman: Great question! What sets this product apart is its unique formulation, backed by scientific research and proven results. Unlike other products, it is specifically designed to address your individual health needs, taking into account factors such as age, gender, and lifestyle. Its targeted approach ensures that you get the maximum benefits and results youre looking for. \n",
      "\n",
      "                    Answer as a Customer to the Salesman.\n",
      "                    Customer: Im concerned about potential side effects. Can you address that?\n",
      "Customer: Im experiencing some health issues and Im not sure whats causing them. Salesman: Im here to listen and understand your concerns. Could you please tell me more about the symptoms youre experiencing? Customer: Ive been having persistent headaches and fatigue lately. Salesman: I understand that youre dealing with headaches and fatigue. Can you describe the intensity of the headaches and how long they last? Customer: Ive tried different medications, but nothing seems to work. Im frustrated. Salesman: I hear that youre frustrated with the lack of improvement despite trying different medications. Can you tell me more about the specific medications youve tried and their effects? Customer: Im concerned that these symptoms might be related to a more serious underlying condition. Salesman: I understand your concern about a potential serious underlying condition. Its important to gather more information. Have you noticed any patterns or triggers for these symptoms? Customer: I feel like my current healthcare provider is not taking my concerns seriously. Salesman: I can empathize with your frustration regarding your current healthcare provider. Could you share specific instances where you felt your concerns were not taken seriously? \n",
      "\n",
      "                    Answer as a Customer to the Salesman.\n",
      "                    Customer: Im looking for alternative treatment options that could address my symptoms more effectively.\n",
      "Customer: Hi, Im interested in improving my health. Can you help me? Salesman: Absolutely! Id love to assist you. Tell me more about what youre looking to achieve. Customer: Ive been struggling with weight loss. Any advice? Salesman: I understand how challenging that can be. Lets discuss your goals and explore options that may work for you. Customer: I have some concerns about a specific medication. Can you address them? Salesman: Of course, Im here to help. Please share your concerns with me, and Ill do my best to provide you with accurate information. Customer: Ive tried different diets, but nothing seems to work. Any suggestions? Salesman: I hear you. It can be frustrating. Lets explore your previous experiences and find a tailored solution that suits your needs. \n",
      "\n",
      "                    Answer as a Customer to the Salesman.\n",
      "                    Customer: Im not sure if I can trust the claims about this new health product. Can you provide more information?\n",
      "Customer: Hi, Im interested in purchasing a new laptop for my business. Can you help me find the right one? Salesman: Of course! Id be happy to assist you. Tell me more about your specific needs and requirements. Customer: Im looking for a smartphone with a great camera. Which one would you recommend? Salesman: I understand your preference for a good camera. Let me show you our latest models with advanced camera features. Customer: Im considering upgrading my internet service. What options do you have available? Salesman: Thank you for considering our services. Lets discuss your current needs and find the most suitable internet plan for you. Customer: Im interested in buying a smart home security system. Can you explain how it works? Salesman: Absolutely! Our smart home security systems provide enhanced protection and convenience. Let me walk you through the features and benefits. Customer: Im in the market for a new gaming PC. What specifications should I look for? Salesman: Im glad youre interested in gaming PCs. Lets talk about your gaming preferences and recommend a PC that meets your requirements. Customer: Im considering switching to a cloud-based storage solution for my business. Can you explain the advantages? Salesman: Certainly! Cloud-based storage offers numerous benefits such as scalability, accessibility, and data security. Lets discuss how it can optimize your business operations. \n",
      "\n",
      "                    Answer as a Customer to the Salesman.\n",
      "                    Customer: Ive been having trouble with my current software. Can you recommend a more reliable option?\n",
      "Customer: Ive been having a lot of issues with my current accounting software. Its not compatible with some of the other programs we use. Salesman: If I understand correctly, you mentioned that you are facing challenges with your current softwares compatibility. Is that correct? Customer: Yes, thats right. Its causing a lot of delays and errors in our financial processes. Salesman: I see. It must be frustrating to deal with those issues. Can you describe some specific examples of how its impacting your daily operations? Customer: Well, for example, we have to manually transfer data between different systems, which takes up a lot of time and increases the risk of errors. Salesman: I understand. It sounds like the compatibility issues are causing inefficiencies and potential mistakes in your financial processes. Customer: Exactly. Its a major pain point for us, and were looking for a solution that can seamlessly integrate with our existing systems. Salesman: I hear you. Finding a software solution that can address your compatibility needs is crucial. We specialize in providing customizable software that can integrate smoothly with various platforms. Lets discuss some options that might be a good fit for your business. Customer: That sounds promising. Can you provide some examples of how your software has helped other companies with similar issues? Salesman: Certainly. Weve worked with several clients who were experiencing compatibility challenges like yours. By implementing our software, they were able to streamline their processes, eliminate manual data transfers, and reduce errors. I can share some case studies and success stories with you. Customer: That would be great. Im interested in learning more about how your solution can specifically address our pain points. Salesman: Im glad to hear that. Lets schedule a demo where I can show you our software in action and discuss how it can be customized to meet your specific needs. How does that sound? Customer: That sounds like a good next step. I appreciate your attentive listening and understanding of our challenges. Salesman: Thank you for your kind words. Active listening is an important part of our sales process, and Im committed to finding the best solution for your business. I look forward to our demo and further discussions. \n",
      "\n",
      "                    Answer as a Customer to the Salesman.\n",
      "                    Customer: I have some concerns about the security of the financial data stored in the software. Can you address that?\n"
     ]
    }
   ],
   "source": [
    "for i in range(10,20):\n",
    "    print(clustered_data[clustered_data['Cluster'] == 1].iloc[i]['Conversation'])"
   ]
  },
  {
   "cell_type": "code",
   "execution_count": 16,
   "metadata": {},
   "outputs": [],
   "source": [
    "import random\n",
    "import faker\n",
    "\n",
    "fake = faker.Faker()\n",
    "\n",
    "# Mocking client records\n",
    "def mock_clients(num_clients):\n",
    "    clients = []\n",
    "    for i in range(num_clients):\n",
    "        client_id = i + 1\n",
    "        client_name = fake.company()\n",
    "        clients.append((client_id, client_name))\n",
    "    return clients\n",
    "    # df_clients = pd.DataFrame(clients, columns=['id', 'name'])\n",
    "    # return df_clients\n",
    "\n",
    "# Mocking contact records\n",
    "def mock_contacts(num_contacts, clients):\n",
    "    contacts = []\n",
    "    for i in range(num_contacts):\n",
    "        contact_id = i + 1\n",
    "        client_id = random.choice(clients)[0]\n",
    "        contact_name = fake.name()\n",
    "        phone_number = fake.phone_number()\n",
    "        contacts.append((contact_id, client_id, contact_name, phone_number))\n",
    "    return contacts\n",
    "    # df_contacts = pd.DataFrame(contacts, columns=['id', 'client_id', 'name', 'phone_number'])\n",
    "    # return df_contacts\n",
    "\n",
    "# Mocking call records\n",
    "def mock_call_records(num_calls, clients, contacts):\n",
    "    call_records = []\n",
    "    for i in range(num_calls):\n",
    "        call_id = i + 1\n",
    "        client_id = random.choice(clients)[0]\n",
    "        contact_id = random.choice(contacts)[0]\n",
    "        phone_number = fake.phone_number()\n",
    "        call_records.append((call_id, client_id, contact_id, phone_number))\n",
    "    return call_records\n",
    "    # df_call_records = pd.DataFrame(call_records, columns=['id', 'client_id', 'contact_id', 'phone_number'])\n",
    "    # return df_call_records\n",
    "\n",
    "# Example usage\n",
    "num_clients = 5\n",
    "num_contacts = 10\n",
    "num_calls = 20\n",
    "\n",
    "clients = mock_clients(num_clients)\n",
    "contacts = mock_contacts(num_contacts, clients)\n",
    "call_records = mock_call_records(num_calls, clients, contacts)"
   ]
  },
  {
   "cell_type": "code",
   "execution_count": 17,
   "metadata": {},
   "outputs": [],
   "source": [
    "df_clients = pd.DataFrame(clients, columns=['id', 'name'])\n",
    "df_contacts = pd.DataFrame(contacts, columns=['id', 'client_id', 'name', 'phone_number'])\n",
    "df_callrecords = pd.DataFrame(call_records, columns=['id', 'client_id', 'contact_id', 'phone_number'])"
   ]
  },
  {
   "cell_type": "code",
   "execution_count": 18,
   "metadata": {},
   "outputs": [],
   "source": [
    "%run mock_conversations.py"
   ]
  },
  {
   "cell_type": "code",
   "execution_count": 19,
   "metadata": {},
   "outputs": [
    {
     "data": {
      "text/plain": [
       "[{'speaker': 'Alex',\n",
       "  'role': 'salesman',\n",
       "  'message': \"Hi there! I'm Alex from TikTok's advertising team. How are you today?\"},\n",
       " {'speaker': 'Emma',\n",
       "  'role': 'customer',\n",
       "  'message': \"Hi Alex, I'm doing well, thank you. It's nice to meet you.\"},\n",
       " {'speaker': 'Alex',\n",
       "  'role': 'salesman',\n",
       "  'message': \"Likewise, Emma! I'm excited to discuss how TikTok's advertising solutions can help your brand reach a wider audience and drive engagement. Could you share a bit about your business and your marketing goals?\"},\n",
       " {'speaker': 'Emma',\n",
       "  'role': 'customer',\n",
       "  'message': \"Sure! We're an e-commerce startup specializing in sustainable fashion. Our goal is to increase brand awareness and drive sales through digital marketing.\"},\n",
       " {'speaker': 'Alex',\n",
       "  'role': 'salesman',\n",
       "  'message': \"That's fantastic. TikTok offers a variety of ad formats that can effectively showcase your sustainable fashion products to our engaged user base. Have you considered advertising on TikTok before?\"},\n",
       " {'speaker': 'Emma',\n",
       "  'role': 'customer',\n",
       "  'message': \"We've thought about it, but we're also exploring other platforms. We're looking for the most effective advertising solution that fits within our budget.\"},\n",
       " {'speaker': 'Alex',\n",
       "  'role': 'salesman',\n",
       "  'message': \"Understood. TikTok's ad platform is flexible and can be tailored to fit different budgets. Would you be interested in receiving a personalized proposal outlining potential ad strategies and costs based on your marketing goals?\"},\n",
       " {'speaker': 'Emma',\n",
       "  'role': 'customer',\n",
       "  'message': 'Yes, that would be helpful. Can you also provide some examples of successful ad campaigns on TikTok within the fashion industry?'},\n",
       " {'speaker': 'Alex',\n",
       "  'role': 'salesman',\n",
       "  'message': \"Absolutely! Brands like H&M and Zara have successfully utilized TikTok's In-Feed Ads and Branded Hashtag Challenges to engage with their audience and drive sales. I'll gather specific case studies for you after our call.\"},\n",
       " {'speaker': 'Emma',\n",
       "  'role': 'customer',\n",
       "  'message': 'Great, I look forward to seeing those. What are the next steps if we decide to move forward with TikTok advertising?'},\n",
       " {'speaker': 'Alex',\n",
       "  'role': 'salesman',\n",
       "  'message': \"I'll prepare a detailed proposal for your review, including recommended ad formats, targeting options, and budget considerations. Once you've reviewed the proposal, we can schedule a call to discuss any questions or adjustments before launching your campaign.\"},\n",
       " {'speaker': 'Emma',\n",
       "  'role': 'customer',\n",
       "  'message': \"Sounds good, Alex. Please send over the proposal when it's ready.\"},\n",
       " {'speaker': 'Alex',\n",
       "  'role': 'salesman',\n",
       "  'message': \"Will do, Emma. I'll prioritize putting together the proposal and send it to you by the end of the week. Thank you for your time today, and I look forward to helping your sustainable fashion brand succeed on TikTok!\"},\n",
       " {'speaker': 'Emma',\n",
       "  'role': 'customer',\n",
       "  'message': 'Thank you, Alex. I appreciate your assistance. Looking forward to reviewing the proposal!'}]"
      ]
     },
     "execution_count": 19,
     "metadata": {},
     "output_type": "execute_result"
    }
   ],
   "source": [
    "convos['convo5']"
   ]
  },
  {
   "cell_type": "code",
   "execution_count": 20,
   "metadata": {},
   "outputs": [],
   "source": [
    "def extract(convo_ds):\n",
    "    cust, sales = [], []\n",
    "    for entry in convo_ds:\n",
    "        if entry['role'] == 'customer':\n",
    "            cust.append(entry['message'])\n",
    "        if entry['role'] == 'salesman':\n",
    "            sales.append(entry['message'])\n",
    "    return cust, sales\n",
    "\n",
    "list_cust, list_sales = extract(convos['convo5'])\n",
    "full_cust, full_sales = ' '.join(list_cust), ' '.join(list_sales)"
   ]
  },
  {
   "cell_type": "code",
   "execution_count": 21,
   "metadata": {},
   "outputs": [
    {
     "data": {
      "text/plain": [
       "\"Alex will send over a proposal for TikTok advertising to an e-commerce startup. The startup's goal is to increase brand awareness and drive sales through digital marketing. Alex will provide examples of successful ad campaigns on TikTok.\""
      ]
     },
     "execution_count": 21,
     "metadata": {},
     "output_type": "execute_result"
    }
   ],
   "source": [
    "summarise(full_cust)"
   ]
  },
  {
   "cell_type": "code",
   "execution_count": 22,
   "metadata": {},
   "outputs": [
    {
     "data": {
      "text/plain": [
       "'E-commerce, sustainable fashion, brand awareness, sales, digital marketing, advertising solution, TikTok advertising, budget'"
      ]
     },
     "execution_count": 22,
     "metadata": {},
     "output_type": "execute_result"
    }
   ],
   "source": [
    "extract_keywords(full_cust)"
   ]
  },
  {
   "cell_type": "code",
   "execution_count": 23,
   "metadata": {},
   "outputs": [
    {
     "name": "stdout",
     "output_type": "stream",
     "text": [
      "Hi Alex, I'm doing well, thank you. It's nice to meet you. | Prediction: joy\n",
      "Sure! We're an e-commerce startup specializing in sustainable fashion. Our goal is to increase brand awareness and drive sales through digital marketing. | Prediction: neutral\n",
      "We've thought about it, but we're also exploring other platforms. We're looking for the most effective advertising solution that fits within our budget. | Prediction: neutral\n",
      "Yes, that would be helpful. Can you also provide some examples of successful ad campaigns on TikTok within the fashion industry? | Prediction: neutral\n",
      "Great, I look forward to seeing those. What are the next steps if we decide to move forward with TikTok advertising? | Prediction: joy\n",
      "Sounds good, Alex. Please send over the proposal when it's ready. | Prediction: neutral\n",
      "Thank you, Alex. I appreciate your assistance. Looking forward to reviewing the proposal! | Prediction: joy\n"
     ]
    }
   ],
   "source": [
    "for line in list_cust:\n",
    "    print(f\"{line} | Prediction: {analyze_sentiment(line)}\")"
   ]
  },
  {
   "cell_type": "code",
   "execution_count": 24,
   "metadata": {},
   "outputs": [
    {
     "name": "stdout",
     "output_type": "stream",
     "text": [
      "Hi there! I'm Alex from TikTok's advertising team. How are you today? | Prediction: neutral\n",
      "Likewise, Emma! I'm excited to discuss how TikTok's advertising solutions can help your brand reach a wider audience and drive engagement. Could you share a bit about your business and your marketing goals? | Prediction: joy\n",
      "That's fantastic. TikTok offers a variety of ad formats that can effectively showcase your sustainable fashion products to our engaged user base. Have you considered advertising on TikTok before? | Prediction: neutral\n",
      "Understood. TikTok's ad platform is flexible and can be tailored to fit different budgets. Would you be interested in receiving a personalized proposal outlining potential ad strategies and costs based on your marketing goals? | Prediction: neutral\n",
      "Absolutely! Brands like H&M and Zara have successfully utilized TikTok's In-Feed Ads and Branded Hashtag Challenges to engage with their audience and drive sales. I'll gather specific case studies for you after our call. | Prediction: neutral\n",
      "I'll prepare a detailed proposal for your review, including recommended ad formats, targeting options, and budget considerations. Once you've reviewed the proposal, we can schedule a call to discuss any questions or adjustments before launching your campaign. | Prediction: neutral\n",
      "Will do, Emma. I'll prioritize putting together the proposal and send it to you by the end of the week. Thank you for your time today, and I look forward to helping your sustainable fashion brand succeed on TikTok! | Prediction: joy\n"
     ]
    }
   ],
   "source": [
    "for line in list_sales:\n",
    "    print(f\"{line} | Prediction: {analyze_sentiment(line)}\")"
   ]
  },
  {
   "cell_type": "code",
   "execution_count": 25,
   "metadata": {},
   "outputs": [
    {
     "name": "stdout",
     "output_type": "stream",
     "text": [
      "Conversation 'convo1':\n",
      "- salesman (Alex): I'm great, thank you! I'm excited to discuss how TikTok can help your brand reach a wider audience and drive engagement. Could you tell me a bit about your business and your current marketing strategies?\n",
      "- salesman (Alex): We can set up a follow-up meeting with our creative and marketing teams to discuss a customized strategy for your brand. We'll also provide you with a detailed proposal outlining our recommendations and potential costs.\n",
      "- customer (Jamie): Sounds good, Alex. Let's schedule that follow-up meeting.\n",
      "- salesman (Alex): Fantastic! I'll send you an email with available times for next week. Thank you for your time, Jamie. I look forward to working together to make your brand shine on TikTok!\n",
      "\n",
      "Conversation 'convo2':\n",
      "- salesman (Sarah): Costs can vary based on the influencer's reach and engagement rates. We can discuss budget options and find influencers who fit within your marketing budget while delivering impactful results.\n",
      "- salesman (Sarah): We can schedule a follow-up meeting to discuss influencer selection, campaign strategy, and budget allocation. I’ll also prepare a proposal outlining our recommendations tailored to your specific goals.\n",
      "- customer (Ryan): That sounds like a plan. Let’s set up that follow-up meeting.\n",
      "- salesman (Sarah): Excellent! I'll send you an email with available times for next week. Thank you for your time, Ryan. I look forward to helping your app gain traction on TikTok!\n",
      "\n",
      "Conversation 'convo3':\n",
      "- salesman (Emily): I'm great, thanks for asking! I'm excited to discuss how TikTok can help your startup increase brand awareness and engagement. Could you tell me a bit about your company and your current marketing strategies?\n",
      "- customer (Mark): Sure! We're a travel tech company specializing in personalized trip planning apps. Currently, we focus on digital ads and partnerships with travel influencers.\n",
      "- salesman (Emily): Costs vary based on the influencer's reach and engagement rates. We can discuss budget options and find influencers who align with your marketing goals while delivering impactful results.\n",
      "- salesman (Emily): We can arrange a follow-up meeting to finalize influencer selection, discuss campaign strategies, and outline budget allocations. I'll prepare a detailed proposal for your review.\n",
      "- customer (Mark): That sounds like a plan. Let's schedule that follow-up meeting.\n",
      "- salesman (Emily): Great! I'll send you an email with available times for next week. Thank you for your time, Mark. I'm looking forward to helping your company thrive on TikTok!\n",
      "\n",
      "Conversation 'convo4':\n",
      "- salesman (Emily): I'm great, thanks! I'm excited to discuss how TikTok's advertising solutions can benefit your business. Could you tell me a bit about your business and your advertising goals?\n",
      "- customer (Jessica): Not exactly. We're still in the early stages of planning our marketing strategy for the next quarter.\n",
      "- salesman (Emily): I completely understand. It's important to explore all your options thoroughly. Would it be okay if I follow up with you in a few weeks to see if you've had a chance to review everything?\n",
      "- customer (Jessica): That sounds good to me. I should have a clearer picture of our marketing plans by then.\n",
      "\n",
      "Conversation 'convo5':\n",
      "- salesman (Alex): Likewise, Emma! I'm excited to discuss how TikTok's advertising solutions can help your brand reach a wider audience and drive engagement. Could you share a bit about your business and your marketing goals?\n",
      "- salesman (Alex): I'll prepare a detailed proposal for your review, including recommended ad formats, targeting options, and budget considerations. Once you've reviewed the proposal, we can schedule a call to discuss any questions or adjustments before launching your campaign.\n",
      "- customer (Emma): Sounds good, Alex. Please send over the proposal when it's ready.\n",
      "- salesman (Alex): Will do, Emma. I'll prioritize putting together the proposal and send it to you by the end of the week. Thank you for your time today, and I look forward to helping your sustainable fashion brand succeed on TikTok!\n",
      "\n"
     ]
    }
   ],
   "source": [
    "# Define follow-up action keywords\n",
    "follow_up_keywords = [\"schedule\", \"follow up\", \"set up\", \"arrange\", \"send\", \"discuss\", \"plan\"]\n",
    "\n",
    "# Function to extract follow-up actions from a conversation\n",
    "def extract_follow_up_actions(convo):\n",
    "    follow_up_actions = []\n",
    "    for message in convo:\n",
    "        for keyword in follow_up_keywords:\n",
    "            if keyword in message[\"message\"].lower():\n",
    "                follow_up_actions.append({\n",
    "                    \"speaker\": message[\"speaker\"],\n",
    "                    \"role\": message[\"role\"],\n",
    "                    \"message\": message[\"message\"]\n",
    "                })\n",
    "                break  # Stop checking further keywords once a match is found\n",
    "    return follow_up_actions\n",
    "\n",
    "# Extract follow-up actions from each conversation in your convos dataset\n",
    "all_follow_up_actions = {}\n",
    "for convo_name, conversation in convos.items():\n",
    "    follow_up_actions = extract_follow_up_actions(conversation)\n",
    "    all_follow_up_actions[convo_name] = follow_up_actions\n",
    "\n",
    "# Print the extracted follow-up actions for each conversation\n",
    "for convo_name, actions in all_follow_up_actions.items():\n",
    "    print(f\"Conversation '{convo_name}':\")\n",
    "    for action in actions:\n",
    "        print(f\"- {action['role']} ({action['speaker']}): {action['message']}\")\n",
    "    print()\n"
   ]
  },
  {
   "cell_type": "code",
   "execution_count": 27,
   "metadata": {},
   "outputs": [
    {
     "name": "stderr",
     "output_type": "stream",
     "text": [
      "Some weights of BertForSequenceClassification were not initialized from the model checkpoint at bert-base-uncased and are newly initialized: ['classifier.bias', 'classifier.weight']\n",
      "You should probably TRAIN this model on a down-stream task to be able to use it for predictions and inference.\n"
     ]
    }
   ],
   "source": [
    "# Example of integrating semantic compatibility scoring with existing approach\n",
    "\n",
    "from transformers import BertForSequenceClassification, BertTokenizer\n",
    "import torch\n",
    "\n",
    "# Fine-tuned BERT model and tokenizer (replace with your fine-tuned model)\n",
    "model_name = 'bert-base-uncased'\n",
    "tokenizer = BertTokenizer.from_pretrained(model_name)\n",
    "model = BertForSequenceClassification.from_pretrained(model_name)\n",
    "\n",
    "\n",
    "def find_best_action_noun_pair(actions, nouns):\n",
    "    max_score = -float('inf')\n",
    "    best_action_noun_pair = None\n",
    "    \n",
    "    for action in actions:\n",
    "        for noun in nouns:\n",
    "            # Prepare inputs for BERT\n",
    "            input_text = f\"{action} {noun}\"\n",
    "            inputs = tokenizer(input_text, return_tensors=\"pt\", padding=True, truncation=True)\n",
    "\n",
    "            # Forward pass through BERT\n",
    "            with torch.no_grad():\n",
    "                outputs = model(**inputs)\n",
    "\n",
    "            # Extract logits and softmax to get probabilities\n",
    "            probabilities = torch.softmax(outputs.logits, dim=-1)[0].numpy()\n",
    "\n",
    "            # Assuming index 1 is the positive class score\n",
    "            score = probabilities[1]\n",
    "\n",
    "            # Update best pair if score is higher\n",
    "            if score > max_score:\n",
    "                max_score = score\n",
    "                best_action_noun_pair = (action, noun)\n",
    "    \n",
    "    return best_action_noun_pair"
   ]
  },
  {
   "cell_type": "code",
   "execution_count": 41,
   "metadata": {},
   "outputs": [
    {
     "name": "stdout",
     "output_type": "stream",
     "text": [
      "Conversation 'convo1':\n",
      "- salesman (Alex): I'm great, thank you! I'm excited to discuss how TikTok can help your brand reach a wider audience and drive engagement. Could you tell me a bit about your business and your current marketing strategies? | Action: ('discuss', 'bit') | Timeframe: None\n",
      "- salesman (Alex): We can set up a follow-up meeting with our creative and marketing teams to discuss a customized strategy for your brand. We'll also provide you with a detailed proposal outlining our recommendations and potential costs. | Action: ('set up', 'strategy') | Timeframe: None\n",
      "- customer (Jamie): Sounds good, Alex. Let's schedule that follow-up meeting. | Action: None | Timeframe: None\n",
      "- salesman (Alex): Fantastic! I'll send you an email with available times for next week. Thank you for your time, Jamie. I look forward to working together to make your brand shine on TikTok! | Action: ('send', 'email') | Timeframe: next week\n",
      "\n",
      "Conversation 'convo2':\n",
      "- salesman (Sarah): Costs can vary based on the influencer's reach and engagement rates. We can discuss budget options and find influencers who fit within your marketing budget while delivering impactful results. | Action: ('discuss', 'results') | Timeframe: None\n",
      "- salesman (Sarah): We can schedule a follow-up meeting to discuss influencer selection, campaign strategy, and budget allocation. I’ll also prepare a proposal outlining our recommendations tailored to your specific goals. | Action: ('schedule', 'recommendations') | Timeframe: None\n",
      "- customer (Ryan): That sounds like a plan. Let’s set up that follow-up meeting. | Action: ('set up', 'meeting') | Timeframe: None\n",
      "- salesman (Sarah): Excellent! I'll send you an email with available times for next week. Thank you for your time, Ryan. I look forward to helping your app gain traction on TikTok! | Action: ('send', 'email') | Timeframe: next week\n",
      "\n",
      "Conversation 'convo3':\n",
      "- salesman (Emily): I'm great, thanks for asking! I'm excited to discuss how TikTok can help your startup increase brand awareness and engagement. Could you tell me a bit about your company and your current marketing strategies? | Action: ('discuss', 'bit') | Timeframe: None\n",
      "- customer (Mark): Sure! We're a travel tech company specializing in personalized trip planning apps. Currently, we focus on digital ads and partnerships with travel influencers. | Action: None | Timeframe: None\n",
      "- salesman (Emily): Costs vary based on the influencer's reach and engagement rates. We can discuss budget options and find influencers who align with your marketing goals while delivering impactful results. | Action: ('discuss', 'results') | Timeframe: None\n",
      "- salesman (Emily): We can arrange a follow-up meeting to finalize influencer selection, discuss campaign strategies, and outline budget allocations. I'll prepare a detailed proposal for your review. | Action: ('arrange', 'selection') | Timeframe: None\n",
      "- customer (Mark): That sounds like a plan. Let's schedule that follow-up meeting. | Action: None | Timeframe: None\n",
      "- salesman (Emily): Great! I'll send you an email with available times for next week. Thank you for your time, Mark. I'm looking forward to helping your company thrive on TikTok! | Action: ('send', 'email') | Timeframe: next week\n",
      "\n",
      "Conversation 'convo4':\n",
      "- salesman (Emily): I'm great, thanks! I'm excited to discuss how TikTok's advertising solutions can benefit your business. Could you tell me a bit about your business and your advertising goals? | Action: ('discuss', 'bit') | Timeframe: None\n",
      "- customer (Jessica): Not exactly. We're still in the early stages of planning our marketing strategy for the next quarter. | Action: ('plan', 'strategy') | Timeframe: the next quarter\n",
      "- salesman (Emily): I completely understand. It's important to explore all your options thoroughly. Would it be okay if I follow up with you in a few weeks to see if you've had a chance to review everything? | Action: ('follow up', 'chance') | Timeframe: a few weeks\n",
      "- customer (Jessica): That sounds good to me. I should have a clearer picture of our marketing plans by then. | Action: ('plan', 'picture') | Timeframe: None\n",
      "\n",
      "Conversation 'convo5':\n",
      "- salesman (Alex): Likewise, Emma! I'm excited to discuss how TikTok's advertising solutions can help your brand reach a wider audience and drive engagement. Could you share a bit about your business and your marketing goals? | Action: ('discuss', 'bit') | Timeframe: None\n",
      "- salesman (Alex): I'll prepare a detailed proposal for your review, including recommended ad formats, targeting options, and budget considerations. Once you've reviewed the proposal, we can schedule a call to discuss any questions or adjustments before launching your campaign. | Action: ('schedule', 'questions') | Timeframe: None\n",
      "- customer (Emma): Sounds good, Alex. Please send over the proposal when it's ready. | Action: ('send', 'proposal') | Timeframe: None\n",
      "- salesman (Alex): Will do, Emma. I'll prioritize putting together the proposal and send it to you by the end of the week. Thank you for your time today, and I look forward to helping your sustainable fashion brand succeed on TikTok! | Action: ('send', 'proposal') | Timeframe: the end of the week\n",
      "\n"
     ]
    }
   ],
   "source": [
    "import spacy\n",
    "import en_core_web_sm\n",
    "\n",
    "# Load the SpaCy English model\n",
    "nlp = en_core_web_sm.load()\n",
    "\n",
    "# Define follow-up keywords\n",
    "follow_up_keywords = [\"schedule\", \"follow up\", \"set up\", \"arrange\", \"send\", \"discuss\", \"plan\"]\n",
    "\n",
    "# Function to extract follow-up actions with nouns using SpaCy\n",
    "def extract_follow_up_actions_with_nouns(convo):\n",
    "    follow_up_actions = []\n",
    "    for message in convo:\n",
    "        doc = nlp(message[\"message\"])\n",
    "        found_action = False\n",
    "        for keyword in follow_up_keywords:\n",
    "            if keyword in message[\"message\"].lower():\n",
    "                found_action = True\n",
    "                action_nouns = []\n",
    "                for token in doc:\n",
    "                    if token.dep_ == \"dobj\":  # Check if token is a direct object\n",
    "                        action_nouns.append(token.text)\n",
    "                follow_up_actions.append({\n",
    "                    \"speaker\": message[\"speaker\"],\n",
    "                    \"role\": message[\"role\"],\n",
    "                    \"message\": message[\"message\"],\n",
    "                    \"action\": keyword,\n",
    "                    \"nouns\": action_nouns,\n",
    "                    \"timeframe\": None  # Placeholder for timeframe\n",
    "                })\n",
    "                break  # Stop checking further keywords once a match is found\n",
    "\n",
    "        if found_action:\n",
    "            # Extract temporal entities (e.g., dates, times, durations) from the processed text\n",
    "            for ent in doc.ents:\n",
    "                if ent.label_ in [\"DATE\", \"TIME\", \"DURATION\"]:\n",
    "                    follow_up_actions[-1][\"timeframe\"] = ent.text\n",
    "                    break  # Take the first temporal entity found\n",
    "\n",
    "    return follow_up_actions\n",
    "# Example: Extract follow-up actions with nouns from each conversation in your convos dataset\n",
    "all_follow_up_actions_with_nouns = {}\n",
    "for convo_name, conversation in convos.items():\n",
    "    follow_up_actions = extract_follow_up_actions_with_nouns(conversation)\n",
    "    all_follow_up_actions_with_nouns[convo_name] = follow_up_actions\n",
    "\n",
    "# Print the extracted follow-up actions with nouns for each conversation\n",
    "for convo_name, actions in all_follow_up_actions_with_nouns.items():\n",
    "    print(f\"Conversation '{convo_name}':\")\n",
    "    for action in actions:\n",
    "        print(f\"- {action['role']} ({action['speaker']}): {action['message']} | Action: {find_best_action_noun_pair([action['action']], action['nouns'])} | Timeframe: {action['timeframe']}\")\n",
    "    print()\n"
   ]
  },
  {
   "cell_type": "code",
   "execution_count": null,
   "metadata": {},
   "outputs": [
    {
     "name": "stdout",
     "output_type": "stream",
     "text": [
      "[{'speaker': 'Alex', 'role': 'salesman', 'message': \"I'm great, thank you! I'm excited to discuss how TikTok can help your brand reach a wider audience and drive engagement. Could you tell me a bit about your business and your current marketing strategies?\", 'action': 'discuss', 'nouns': ['you', 'engagement', 'bit'], 'timeframe': None}, {'speaker': 'Alex', 'role': 'salesman', 'message': \"We can set up a follow-up meeting with our creative and marketing teams to discuss a customized strategy for your brand. We'll also provide you with a detailed proposal outlining our recommendations and potential costs.\", 'action': 'set up', 'nouns': ['meeting', 'strategy', 'you', 'recommendations'], 'timeframe': None}, {'speaker': 'Jamie', 'role': 'customer', 'message': \"Sounds good, Alex. Let's schedule that follow-up meeting.\", 'action': 'schedule', 'nouns': [], 'timeframe': None}, {'speaker': 'Alex', 'role': 'salesman', 'message': \"Fantastic! I'll send you an email with available times for next week. Thank you for your time, Jamie. I look forward to working together to make your brand shine on TikTok!\", 'action': 'send', 'nouns': ['email', 'you'], 'timeframe': 'next week'}]\n",
      "[{'speaker': 'Sarah', 'role': 'salesman', 'message': \"Costs can vary based on the influencer's reach and engagement rates. We can discuss budget options and find influencers who fit within your marketing budget while delivering impactful results.\", 'action': 'discuss', 'nouns': ['options', 'influencers', 'results'], 'timeframe': None}, {'speaker': 'Sarah', 'role': 'salesman', 'message': 'We can schedule a follow-up meeting to discuss influencer selection, campaign strategy, and budget allocation. I’ll also prepare a proposal outlining our recommendations tailored to your specific goals.', 'action': 'schedule', 'nouns': ['meeting', 'selection', 'proposal', 'recommendations'], 'timeframe': None}, {'speaker': 'Ryan', 'role': 'customer', 'message': 'That sounds like a plan. Let’s set up that follow-up meeting.', 'action': 'set up', 'nouns': ['meeting'], 'timeframe': None}, {'speaker': 'Sarah', 'role': 'salesman', 'message': \"Excellent! I'll send you an email with available times for next week. Thank you for your time, Ryan. I look forward to helping your app gain traction on TikTok!\", 'action': 'send', 'nouns': ['email', 'you', 'traction'], 'timeframe': 'next week'}]\n",
      "[{'speaker': 'Emily', 'role': 'salesman', 'message': \"I'm great, thanks for asking! I'm excited to discuss how TikTok can help your startup increase brand awareness and engagement. Could you tell me a bit about your company and your current marketing strategies?\", 'action': 'discuss', 'nouns': ['awareness', 'bit'], 'timeframe': None}, {'speaker': 'Mark', 'role': 'customer', 'message': \"Sure! We're a travel tech company specializing in personalized trip planning apps. Currently, we focus on digital ads and partnerships with travel influencers.\", 'action': 'plan', 'nouns': [], 'timeframe': None}, {'speaker': 'Emily', 'role': 'salesman', 'message': \"Costs vary based on the influencer's reach and engagement rates. We can discuss budget options and find influencers who align with your marketing goals while delivering impactful results.\", 'action': 'discuss', 'nouns': ['options', 'influencers', 'results'], 'timeframe': None}, {'speaker': 'Emily', 'role': 'salesman', 'message': \"We can arrange a follow-up meeting to finalize influencer selection, discuss campaign strategies, and outline budget allocations. I'll prepare a detailed proposal for your review.\", 'action': 'arrange', 'nouns': ['meeting', 'selection', 'strategies', 'allocations', 'proposal'], 'timeframe': None}, {'speaker': 'Mark', 'role': 'customer', 'message': \"That sounds like a plan. Let's schedule that follow-up meeting.\", 'action': 'schedule', 'nouns': [], 'timeframe': None}, {'speaker': 'Emily', 'role': 'salesman', 'message': \"Great! I'll send you an email with available times for next week. Thank you for your time, Mark. I'm looking forward to helping your company thrive on TikTok!\", 'action': 'send', 'nouns': ['email', 'you'], 'timeframe': 'next week'}]\n",
      "[{'speaker': 'Emily', 'role': 'salesman', 'message': \"I'm great, thanks for asking! I'm excited to discuss how TikTok can help your startup increase brand awareness and engagement. Could you tell me a bit about your company and your current marketing strategies?\", 'action': 'discuss', 'nouns': ['awareness', 'bit'], 'timeframe': None}, {'speaker': 'Mark', 'role': 'customer', 'message': \"Sure! We're a travel tech company specializing in personalized trip planning apps. Currently, we focus on digital ads and partnerships with travel influencers.\", 'action': 'plan', 'nouns': [], 'timeframe': None}, {'speaker': 'Emily', 'role': 'salesman', 'message': \"Costs vary based on the influencer's reach and engagement rates. We can discuss budget options and find influencers who align with your marketing goals while delivering impactful results.\", 'action': 'discuss', 'nouns': ['options', 'influencers', 'results'], 'timeframe': None}, {'speaker': 'Emily', 'role': 'salesman', 'message': \"We can arrange a follow-up meeting to finalize influencer selection, discuss campaign strategies, and outline budget allocations. I'll prepare a detailed proposal for your review.\", 'action': 'arrange', 'nouns': ['meeting', 'selection', 'strategies', 'allocations', 'proposal'], 'timeframe': None}, {'speaker': 'Mark', 'role': 'customer', 'message': \"That sounds like a plan. Let's schedule that follow-up meeting.\", 'action': 'schedule', 'nouns': [], 'timeframe': None}, {'speaker': 'Emily', 'role': 'salesman', 'message': \"Great! I'll send you an email with available times for next week. Thank you for your time, Mark. I'm looking forward to helping your company thrive on TikTok!\", 'action': 'send', 'nouns': ['email', 'you'], 'timeframe': 'next week'}]\n",
      "[{'speaker': 'Emily', 'role': 'salesman', 'message': \"I'm great, thanks! I'm excited to discuss how TikTok's advertising solutions can benefit your business. Could you tell me a bit about your business and your advertising goals?\", 'action': 'discuss', 'nouns': ['business', 'bit'], 'timeframe': None}, {'speaker': 'Jessica', 'role': 'customer', 'message': \"Not exactly. We're still in the early stages of planning our marketing strategy for the next quarter.\", 'action': 'plan', 'nouns': ['strategy'], 'timeframe': 'the next quarter'}, {'speaker': 'Emily', 'role': 'salesman', 'message': \"I completely understand. It's important to explore all your options thoroughly. Would it be okay if I follow up with you in a few weeks to see if you've had a chance to review everything?\", 'action': 'follow up', 'nouns': ['options', 'chance', 'everything'], 'timeframe': 'a few weeks'}, {'speaker': 'Jessica', 'role': 'customer', 'message': 'That sounds good to me. I should have a clearer picture of our marketing plans by then.', 'action': 'plan', 'nouns': ['picture'], 'timeframe': None}]\n",
      "[{'speaker': 'Alex', 'role': 'salesman', 'message': \"Likewise, Emma! I'm excited to discuss how TikTok's advertising solutions can help your brand reach a wider audience and drive engagement. Could you share a bit about your business and your marketing goals?\", 'action': 'discuss', 'nouns': ['engagement', 'bit'], 'timeframe': None}, {'speaker': 'Alex', 'role': 'salesman', 'message': \"I'll prepare a detailed proposal for your review, including recommended ad formats, targeting options, and budget considerations. Once you've reviewed the proposal, we can schedule a call to discuss any questions or adjustments before launching your campaign.\", 'action': 'schedule', 'nouns': ['proposal', 'proposal', 'call', 'questions', 'campaign'], 'timeframe': None}, {'speaker': 'Emma', 'role': 'customer', 'message': \"Sounds good, Alex. Please send over the proposal when it's ready.\", 'action': 'send', 'nouns': ['proposal'], 'timeframe': None}, {'speaker': 'Alex', 'role': 'salesman', 'message': \"Will do, Emma. I'll prioritize putting together the proposal and send it to you by the end of the week. Thank you for your time today, and I look forward to helping your sustainable fashion brand succeed on TikTok!\", 'action': 'send', 'nouns': ['proposal', 'it', 'you'], 'timeframe': 'the end of the week'}]\n"
     ]
    }
   ],
   "source": [
    "for convo_name, actions in all_follow_up_actions_with_nouns.items():\n",
    "    print(actions)"
   ]
  },
  {
   "cell_type": "code",
   "execution_count": 42,
   "metadata": {},
   "outputs": [
    {
     "name": "stdout",
     "output_type": "stream",
     "text": [
      "Conversation 'convo1':\n",
      "- salesman (Alex): I'm great, thank you! I'm excited to discuss how TikTok can help your brand reach a wider audience and drive engagement. Could you tell me a bit about your business and your current marketing strategies? | Entity: discuss \n",
      "- salesman (Alex): We can set up a follow-up meeting with our creative and marketing teams to discuss a customized strategy for your brand. We'll also provide you with a detailed proposal outlining our recommendations and potential costs. | Entity: discuss a customized strategy for\n",
      "- customer (Jamie): Sounds good, Alex. Let's schedule that follow-up meeting. | Entity: schedule \n",
      "- salesman (Alex): Fantastic! I'll send you an email with available times for next week. Thank you for your time, Jamie. I look forward to working together to make your brand shine on TikTok! | Entity: send an email with times\n",
      "\n",
      "Conversation 'convo2':\n",
      "- salesman (Sarah): Costs can vary based on the influencer's reach and engagement rates. We can discuss budget options and find influencers who fit within your marketing budget while delivering impactful results. | Entity: discuss budget options\n",
      "- salesman (Sarah): We can schedule a follow-up meeting to discuss influencer selection, campaign strategy, and budget allocation. I’ll also prepare a proposal outlining our recommendations tailored to your specific goals. | Entity: schedule a follow meeting\n",
      "- salesman (Sarah): We can schedule a follow-up meeting to discuss influencer selection, campaign strategy, and budget allocation. I’ll also prepare a proposal outlining our recommendations tailored to your specific goals. | Entity: discuss influencer selection , strategy\n",
      "- customer (Ryan): That sounds like a plan. Let’s set up that follow-up meeting. | Entity: plan \n",
      "- salesman (Sarah): Excellent! I'll send you an email with available times for next week. Thank you for your time, Ryan. I look forward to helping your app gain traction on TikTok! | Entity: send an email with times\n",
      "\n",
      "Conversation 'convo3':\n",
      "- salesman (Emily): I'm great, thanks for asking! I'm excited to discuss how TikTok can help your startup increase brand awareness and engagement. Could you tell me a bit about your company and your current marketing strategies? | Entity: discuss \n",
      "- salesman (Emily): Costs vary based on the influencer's reach and engagement rates. We can discuss budget options and find influencers who align with your marketing goals while delivering impactful results. | Entity: discuss budget options\n",
      "- salesman (Emily): We can arrange a follow-up meeting to finalize influencer selection, discuss campaign strategies, and outline budget allocations. I'll prepare a detailed proposal for your review. | Entity: arrange a follow meeting\n",
      "- salesman (Emily): We can arrange a follow-up meeting to finalize influencer selection, discuss campaign strategies, and outline budget allocations. I'll prepare a detailed proposal for your review. | Entity: discuss campaign strategies budget allocations\n",
      "- customer (Mark): That sounds like a plan. Let's schedule that follow-up meeting. | Entity: schedule \n",
      "- customer (Mark): That sounds like a plan. Let's schedule that follow-up meeting. | Entity: plan \n",
      "- salesman (Emily): Great! I'll send you an email with available times for next week. Thank you for your time, Mark. I'm looking forward to helping your company thrive on TikTok! | Entity: send an email with times\n",
      "\n",
      "Conversation 'convo4':\n",
      "- salesman (Emily): I'm great, thanks! I'm excited to discuss how TikTok's advertising solutions can benefit your business. Could you tell me a bit about your business and your advertising goals? | Entity: discuss \n",
      "- customer (Jessica): Not exactly. We're still in the early stages of planning our marketing strategy for the next quarter. | Entity: plan our marketing strategy for quarter\n",
      "- customer (Jessica): That sounds good to me. I should have a clearer picture of our marketing plans by then. | Entity: plan \n",
      "\n",
      "Conversation 'convo5':\n",
      "- salesman (Alex): Likewise, Emma! I'm excited to discuss how TikTok's advertising solutions can help your brand reach a wider audience and drive engagement. Could you share a bit about your business and your marketing goals? | Entity: discuss \n",
      "- salesman (Alex): I'll prepare a detailed proposal for your review, including recommended ad formats, targeting options, and budget considerations. Once you've reviewed the proposal, we can schedule a call to discuss any questions or adjustments before launching your campaign. | Entity: schedule a call\n",
      "- salesman (Alex): I'll prepare a detailed proposal for your review, including recommended ad formats, targeting options, and budget considerations. Once you've reviewed the proposal, we can schedule a call to discuss any questions or adjustments before launching your campaign. | Entity: discuss or any questions adjustments before launching\n",
      "- customer (Emma): Sounds good, Alex. Please send over the proposal when it's ready. | Entity: send the proposal\n",
      "- salesman (Alex): Will do, Emma. I'll prioritize putting together the proposal and send it to you by the end of the week. Thank you for your time today, and I look forward to helping your sustainable fashion brand succeed on TikTok! | Entity: send it end by\n",
      "\n"
     ]
    }
   ],
   "source": [
    "import spacy\n",
    "\n",
    "# Load the SpaCy English model\n",
    "nlp = spacy.load(\"en_core_web_sm\")\n",
    "\n",
    "# Define follow-up keywords\n",
    "follow_up_keywords = [\"schedule\", \"follow up\", \"set up\", \"arrange\", \"send\", \"discuss\", \"plan\"]\n",
    "\n",
    "# Function to extract follow-up actions with complete entities\n",
    "def extract_follow_up_actions_with_entities(convo):\n",
    "    follow_up_actions = []\n",
    "    for message in convo:\n",
    "        doc = nlp(message[\"message\"])\n",
    "        for keyword in follow_up_keywords:\n",
    "            if keyword in message[\"message\"].lower():\n",
    "                # Find the root verb and its dependencies\n",
    "                for token in doc:\n",
    "                    if token.lemma_ == keyword:\n",
    "                        action_phrase = []\n",
    "                        for child in token.children:\n",
    "                            # Collect all words related to the action\n",
    "                            if child.dep_ in (\"dobj\", \"prep\", \"pobj\", \"advmod\", \"amod\", \"attr\"):\n",
    "                                action_phrase.append(child.text)\n",
    "                                for subchild in child.children:\n",
    "                                    action_phrase.append(subchild.text)\n",
    "                        action_phrase = ' '.join(sorted(set(action_phrase), key=lambda x: doc.text.find(x)))\n",
    "                        follow_up_actions.append({\n",
    "                            \"speaker\": message[\"speaker\"],\n",
    "                            \"role\": message[\"role\"],\n",
    "                            \"message\": message[\"message\"],\n",
    "                            \"action\": keyword,\n",
    "                            \"entity\": f\"{keyword} {action_phrase}\"\n",
    "                        })\n",
    "    return follow_up_actions\n",
    "\n",
    "# Example: Extract follow-up actions with entities from each conversation in your convos dataset\n",
    "all_follow_up_actions_with_entities = {}\n",
    "for convo_name, conversation in convos.items():\n",
    "    follow_up_actions = extract_follow_up_actions_with_entities(conversation)\n",
    "    all_follow_up_actions_with_entities[convo_name] = follow_up_actions\n",
    "\n",
    "# Print the extracted follow-up actions with entities for each conversation\n",
    "for convo_name, actions in all_follow_up_actions_with_entities.items():\n",
    "    print(f\"Conversation '{convo_name}':\")\n",
    "    for action in actions:\n",
    "        print(f\"- {action['role']} ({action['speaker']}): {action['message']} | Entity: {action['entity']}\")\n",
    "    print()\n",
    "\n",
    "# Function to find the best action-noun pair using BERT\n",
    "def find_best_action_noun_pair(actions):\n",
    "    max_score = -float('inf')\n",
    "    best_action_noun_pair = None\n",
    "\n",
    "    for action in actions:\n",
    "        action_phrase = action['entity']\n",
    "        # Prepare inputs for BERT\n",
    "        inputs = tokenizer(action_phrase, return_tensors=\"pt\", padding=True, truncation=True)\n",
    "\n",
    "        # Forward pass through BERT\n",
    "        with torch.no_grad():\n",
    "            outputs = model(**inputs)\n",
    "\n",
    "        # Extract logits and softmax to get probabilities\n",
    "        probabilities = torch.softmax(outputs.logits, dim=-1)[0].numpy()\n",
    "\n",
    "        # Assuming index 1 is the positive class score\n",
    "        score = probabilities[1]\n",
    "\n",
    "        # Update best pair if score is higher\n",
    "        if score > max_score:\n",
    "            max_score = score\n",
    "            best_action_noun_pair = action_phrase\n",
    "\n",
    "    return best_action\n"
   ]
  },
  {
   "cell_type": "code",
   "execution_count": 72,
   "metadata": {},
   "outputs": [
    {
     "name": "stderr",
     "output_type": "stream",
     "text": [
      "Some weights of the model checkpoint at dbmdz/bert-large-cased-finetuned-conll03-english were not used when initializing BertForTokenClassification: ['bert.pooler.dense.bias', 'bert.pooler.dense.weight']\n",
      "- This IS expected if you are initializing BertForTokenClassification from the checkpoint of a model trained on another task or with another architecture (e.g. initializing a BertForSequenceClassification model from a BertForPreTraining model).\n",
      "- This IS NOT expected if you are initializing BertForTokenClassification from the checkpoint of a model that you expect to be exactly identical (initializing a BertForSequenceClassification model from a BertForSequenceClassification model).\n"
     ]
    },
    {
     "name": "stdout",
     "output_type": "stream",
     "text": [
      "- customer (Emma): Hi Alex, I'm doing well, thank you. It's nice to meet you. | Action Phrase: meet you Alex\n",
      "- salesman (Alex): Likewise, Emma! I'm excited to discuss how TikTok's advertising solutions can help your brand reach a wider audience and drive engagement. Could you share a bit about your business and your marketing goals? | Action Phrase: discuss Emma TikTok\n",
      "- salesman (Alex): I'll prepare a detailed proposal for your review, including recommended ad formats, targeting options, and budget considerations. Once you've reviewed the proposal, we can schedule a call to discuss any questions or adjustments before launching your campaign. | Action Phrase: schedule call\n",
      "- customer (Emma): Sounds good, Alex. Please send over the proposal when it's ready. | Action Phrase: send proposal Alex\n",
      "- salesman (Alex): Will do, Emma. I'll prioritize putting together the proposal and send it to you by the end of the week. Thank you for your time today, and I look forward to helping your sustainable fashion brand succeed on TikTok! | Action Phrase: send it by end Emma TikTok\n"
     ]
    }
   ],
   "source": [
    "import spacy\n",
    "from transformers import pipeline, AutoModelForTokenClassification, AutoTokenizer\n",
    "\n",
    "# Load the SpaCy English model\n",
    "nlp = spacy.load(\"en_core_web_sm\")\n",
    "\n",
    "# Load the BERT model and tokenizer\n",
    "model_name = \"dbmdz/bert-large-cased-finetuned-conll03-english\"\n",
    "model = AutoModelForTokenClassification.from_pretrained(model_name)\n",
    "tokenizer = AutoTokenizer.from_pretrained(model_name)\n",
    "ner_pipeline = pipeline(\"ner\", model=model, tokenizer=tokenizer)\n",
    "\n",
    "# Define follow-up keywords\n",
    "follow_up_keywords = [\"schedule\", \"follow up\", \"set up\", \"arrange\", \"send\", \"discuss\", \"plan\", \"meet\"]\n",
    "\n",
    "# Function to extract follow-up actions with complete entities, excluding named entities\n",
    "def extract_follow_up_actions_with_entities(convo):\n",
    "    follow_up_actions = []\n",
    "    for message in convo:\n",
    "        doc = nlp(message[\"message\"])\n",
    "        entities = ner_pipeline(message[\"message\"])\n",
    "        named_entities = {entity['word'] for entity in entities if entity['entity'].startswith(\"B-\")}\n",
    "        \n",
    "        for token in doc:\n",
    "            if token.lemma_ in follow_up_keywords:\n",
    "                action_phrase = [token.text]\n",
    "\n",
    "                # Include direct objects, prepositional objects, and their modifiers\n",
    "                for child in token.children:\n",
    "                    if (child.dep_ in (\"dobj\", \"prep\", \"pobj\", \"advmod\", \"amod\", \"attr\") and \n",
    "                        child.text not in named_entities):\n",
    "                        action_phrase.append(child.text)\n",
    "                        for grandchild in child.children:\n",
    "                            if (grandchild.dep_ in (\"prep\", \"pobj\", \"advmod\", \"amod\") and \n",
    "                                grandchild.text not in named_entities):\n",
    "                                action_phrase.append(grandchild.text)\n",
    "\n",
    "                # Combine subwords into complete entities\n",
    "                complete_entity = \"\"\n",
    "                for entity in entities:\n",
    "                    if entity['word'] not in named_entities:\n",
    "                        if not entity['word'].startswith(\"##\"):\n",
    "                            if complete_entity:\n",
    "                                action_phrase.append(complete_entity)\n",
    "                            complete_entity = entity['word']\n",
    "                        else:\n",
    "                            complete_entity += entity['word'][2:]\n",
    "                if complete_entity:\n",
    "                    action_phrase.append(complete_entity)\n",
    "                \n",
    "                # Join the action phrase and exclude named entities\n",
    "                filtered_action_phrase = \" \".join(\n",
    "                    word for word in action_phrase if word not in named_entities\n",
    "                )\n",
    "                \n",
    "                follow_up_actions.append({\n",
    "                    \"speaker\": message[\"speaker\"],\n",
    "                    \"role\": message[\"role\"],\n",
    "                    \"message\": message[\"message\"],\n",
    "                    \"action_phrase\": filtered_action_phrase\n",
    "                })\n",
    "                break  # Stop checking further tokens once a match is found\n",
    "    return follow_up_actions\n",
    "\n",
    "\n",
    "# Extract follow-up actions with entities\n",
    "follow_up_actions_with_entities = extract_follow_up_actions_with_entities(convos['convo5'])\n",
    "\n",
    "# Print the extracted follow-up actions with entities\n",
    "for action in follow_up_actions_with_entities:\n",
    "    print(f\"- {action['role']} ({action['speaker']}): {action['message']} | Action Phrase: {action['action_phrase']}\")\n",
    "\n"
   ]
  },
  {
   "cell_type": "code",
   "execution_count": 71,
   "metadata": {},
   "outputs": [
    {
     "name": "stderr",
     "output_type": "stream",
     "text": [
      "Some weights of the model checkpoint at dbmdz/bert-large-cased-finetuned-conll03-english were not used when initializing BertForTokenClassification: ['bert.pooler.dense.bias', 'bert.pooler.dense.weight']\n",
      "- This IS expected if you are initializing BertForTokenClassification from the checkpoint of a model trained on another task or with another architecture (e.g. initializing a BertForSequenceClassification model from a BertForPreTraining model).\n",
      "- This IS NOT expected if you are initializing BertForTokenClassification from the checkpoint of a model that you expect to be exactly identical (initializing a BertForSequenceClassification model from a BertForSequenceClassification model).\n"
     ]
    },
    {
     "name": "stdout",
     "output_type": "stream",
     "text": [
      "- salesman (Alex): Likewise, Emma! I'm excited to discuss how TikTok's advertising solutions can help your brand reach a wider audience and drive engagement. Could you share a bit about your business and your marketing goals? | Action Phrase: discuss\n",
      "- salesman (Alex): I'll prepare a detailed proposal for your review, including recommended ad formats, targeting options, and budget considerations. Once you've reviewed the proposal, we can schedule a call to discuss any questions or adjustments before launching your campaign. | Action Phrase: schedule call\n",
      "- customer (Emma): Sounds good, Alex. Please send over the proposal when it's ready. | Action Phrase: send proposal\n",
      "- salesman (Alex): Will do, Emma. I'll prioritize putting together the proposal and send it to you by the end of the week. Thank you for your time today, and I look forward to helping your sustainable fashion brand succeed on TikTok! | Action Phrase: send it by end\n"
     ]
    }
   ],
   "source": [
    "import spacy\n",
    "from transformers import pipeline, AutoModelForTokenClassification, AutoTokenizer\n",
    "\n",
    "# Load the SpaCy English model\n",
    "nlp = spacy.load(\"en_core_web_sm\")\n",
    "\n",
    "# Load the BERT model and tokenizer for Named Entity Recognition (NER)\n",
    "model_name = \"dbmdz/bert-large-cased-finetuned-conll03-english\"\n",
    "model = AutoModelForTokenClassification.from_pretrained(model_name)\n",
    "tokenizer = AutoTokenizer.from_pretrained(model_name)\n",
    "ner_pipeline = pipeline(\"ner\", model=model, tokenizer=tokenizer)\n",
    "\n",
    "# Define follow-up keywords\n",
    "follow_up_keywords = [\"schedule\", \"follow up\", \"set up\", \"arrange\", \"send\", \"discuss\"]\n",
    "\n",
    "# Function to extract follow-up actions with complete entities, excluding named entities\n",
    "def extract_follow_up_actions_with_entities(convo):\n",
    "    follow_up_actions = []\n",
    "    for message in convo:\n",
    "        doc = nlp(message[\"message\"])\n",
    "        entities = ner_pipeline(message[\"message\"])\n",
    "        named_entities = {entity['word'] for entity in entities if entity['entity'].startswith(\"B-\")}\n",
    "        \n",
    "        for token in doc:\n",
    "            if token.lemma_ in follow_up_keywords:\n",
    "                action_phrase = [token.text]\n",
    "\n",
    "                # Include direct objects, prepositional objects, and their modifiers\n",
    "                for child in token.children:\n",
    "                    if (child.dep_ in (\"dobj\", \"prep\", \"pobj\", \"advmod\", \"amod\", \"attr\") and \n",
    "                        child.text not in named_entities):\n",
    "                        action_phrase.append(child.text)\n",
    "                        for grandchild in child.children:\n",
    "                            if (grandchild.dep_ in (\"prep\", \"pobj\", \"advmod\", \"amod\") and \n",
    "                                grandchild.text not in named_entities):\n",
    "                                action_phrase.append(grandchild.text)\n",
    "\n",
    "                # Join the action phrase and exclude named entities\n",
    "                filtered_action_phrase = \" \".join(\n",
    "                    word for word in action_phrase if word not in named_entities\n",
    "                )\n",
    "                \n",
    "                follow_up_actions.append({\n",
    "                    \"speaker\": message[\"speaker\"],\n",
    "                    \"role\": message[\"role\"],\n",
    "                    \"message\": message[\"message\"],\n",
    "                    \"action_phrase\": filtered_action_phrase\n",
    "                })\n",
    "                break  # Stop checking further tokens once a match is found\n",
    "    return follow_up_actions\n",
    "\n",
    "# Extract follow-up actions with entities\n",
    "follow_up_actions_with_entities = extract_follow_up_actions_with_entities(convos['convo5'])\n",
    "\n",
    "# Print the extracted follow-up actions with entities\n",
    "for action in follow_up_actions_with_entities:\n",
    "    print(f\"- {action['role']} ({action['speaker']}): {action['message']} | Action Phrase: {action['action_phrase']}\")\n"
   ]
  },
  {
   "cell_type": "code",
   "execution_count": 66,
   "metadata": {},
   "outputs": [
    {
     "data": {
      "text/plain": [
       "[{'speaker': 'TikTok Sales Representative (Emily)',\n",
       "  'role': 'salesman',\n",
       "  'message': \"Hi there! I'm Emily from TikTok's advertising team. How are you today?\"},\n",
       " {'speaker': 'Potential Client (Jessica)',\n",
       "  'role': 'customer',\n",
       "  'message': \"Hi Emily, I'm doing well, thank you. How about you?\"},\n",
       " {'speaker': 'Emily',\n",
       "  'role': 'salesman',\n",
       "  'message': \"I'm great, thanks! I'm excited to discuss how TikTok's advertising solutions can benefit your business. Could you tell me a bit about your business and your advertising goals?\"},\n",
       " {'speaker': 'Jessica',\n",
       "  'role': 'customer',\n",
       "  'message': 'Sure! We run a small boutique specializing in handmade jewelry. Our goal is to increase online sales and build brand awareness among a younger audience.'},\n",
       " {'speaker': 'Emily',\n",
       "  'role': 'salesman',\n",
       "  'message': \"That's fantastic. TikTok could be a great platform to showcase your unique products through engaging video content. Have you considered advertising on TikTok before?\"},\n",
       " {'speaker': 'Jessica',\n",
       "  'role': 'customer',\n",
       "  'message': \"We've thought about it, but we're also exploring other social media platforms. We're looking for the most cost-effective solution that aligns with our budget.\"},\n",
       " {'speaker': 'Emily',\n",
       "  'role': 'salesman',\n",
       "  'message': \"I understand. TikTok offers various ad formats and targeting options that can be tailored to fit different budgets. Have you determined what kind of budget you'd be comfortable with for advertising?\"},\n",
       " {'speaker': 'Jessica',\n",
       "  'role': 'customer',\n",
       "  'message': \"Not exactly. We're still in the early stages of planning our marketing strategy for the next quarter.\"},\n",
       " {'speaker': 'Emily',\n",
       "  'role': 'salesman',\n",
       "  'message': 'No problem at all. Would you be interested in hearing more about our ad solutions and how they could potentially benefit your business?'},\n",
       " {'speaker': 'Jessica',\n",
       "  'role': 'customer',\n",
       "  'message': \"I appreciate the information, Emily. However, I think we'll need more time to evaluate our options and compare them with other platforms before making a decision.\"},\n",
       " {'speaker': 'Emily',\n",
       "  'role': 'salesman',\n",
       "  'message': \"I completely understand. It's important to explore all your options thoroughly. Would it be okay if I follow up with you in a few weeks to see if you've had a chance to review everything?\"},\n",
       " {'speaker': 'Jessica',\n",
       "  'role': 'customer',\n",
       "  'message': 'That sounds good to me. I should have a clearer picture of our marketing plans by then.'},\n",
       " {'speaker': 'Emily',\n",
       "  'role': 'salesman',\n",
       "  'message': \"Perfect. I'll make a note to check back in with you in about three weeks. In the meantime, if you have any questions or need further information, feel free to reach out.\"},\n",
       " {'speaker': 'Jessica',\n",
       "  'role': 'customer',\n",
       "  'message': 'Thank you, Emily. I appreciate your understanding and assistance.'},\n",
       " {'speaker': 'Emily',\n",
       "  'role': 'salesman',\n",
       "  'message': \"You're very welcome, Jessica. Have a wonderful day, and I'll talk to you soon!\"},\n",
       " {'speaker': 'Jessica',\n",
       "  'role': 'customer',\n",
       "  'message': 'You too, Emily. Take care!'}]"
      ]
     },
     "execution_count": 66,
     "metadata": {},
     "output_type": "execute_result"
    }
   ],
   "source": [
    "convos['convo4']"
   ]
  },
  {
   "cell_type": "code",
   "execution_count": 49,
   "metadata": {},
   "outputs": [
    {
     "data": {
      "text/plain": [
       "[{'speaker': 'Alex',\n",
       "  'role': 'salesman',\n",
       "  'message': \"Hi there! My name is Alex, and I'm with TikTok's business development team. How are you doing today?\"},\n",
       " {'speaker': 'Jamie',\n",
       "  'role': 'customer',\n",
       "  'message': \"Hi Alex, I'm doing well, thank you. How about you?\"},\n",
       " {'speaker': 'Alex',\n",
       "  'role': 'salesman',\n",
       "  'message': \"I'm great, thank you! I'm excited to discuss how TikTok can help your brand reach a wider audience and drive engagement. Could you tell me a bit about your business and your current marketing strategies?\"},\n",
       " {'speaker': 'Jamie',\n",
       "  'role': 'customer',\n",
       "  'message': \"Sure! We are a fashion retail brand, and we primarily market through Instagram and Facebook. We're looking to expand our online presence and reach a younger demographic.\"},\n",
       " {'speaker': 'Alex',\n",
       "  'role': 'salesman',\n",
       "  'message': 'That sounds like a perfect fit for TikTok! Our platform has a large and engaged user base, especially among Gen Z and Millennials. Have you considered using TikTok for your brand before?'},\n",
       " {'speaker': 'Jamie',\n",
       "  'role': 'customer',\n",
       "  'message': \"We've thought about it, but we're not quite sure how to start or what kind of content would work best for us.\"},\n",
       " {'speaker': 'Alex',\n",
       "  'role': 'salesman',\n",
       "  'message': 'I understand. TikTok is unique because it allows brands to connect with users in a fun and authentic way. Our short-form video format is perfect for showcasing fashion. You could create behind-the-scenes looks, style tips, or even collaborate with popular TikTok influencers to boost your brand visibility.'},\n",
       " {'speaker': 'Jamie',\n",
       "  'role': 'customer',\n",
       "  'message': 'That sounds interesting. How do we go about creating these collaborations with influencers?'},\n",
       " {'speaker': 'Alex',\n",
       "  'role': 'salesman',\n",
       "  'message': 'We have a dedicated team that can help you identify and connect with influencers who align with your brand values and audience. Additionally, we offer various ad solutions like In-Feed Ads, Branded Hashtag Challenges, and Branded Effects that can further enhance your presence on the platform.'},\n",
       " {'speaker': 'Jamie',\n",
       "  'role': 'customer',\n",
       "  'message': 'What kind of budget are we looking at for these advertising solutions?'},\n",
       " {'speaker': 'Alex',\n",
       "  'role': 'salesman',\n",
       "  'message': 'Our solutions are quite flexible and can be tailored to fit different budgets. We can start with a smaller campaign to test the waters and see how your audience responds. From there, we can scale up based on the performance and your marketing goals.'},\n",
       " {'speaker': 'Jamie',\n",
       "  'role': 'customer',\n",
       "  'message': 'That sounds reasonable. Can you provide any case studies or examples of other fashion brands that have seen success on TikTok?'},\n",
       " {'speaker': 'Alex',\n",
       "  'role': 'salesman',\n",
       "  'message': \"Absolutely! For instance, brands like Guess and Aerie have seen tremendous success by leveraging TikTok's unique features. Guess launched the #InMyDenim challenge, which garnered millions of views and significantly boosted their brand engagement. I'd be happy to share detailed case studies with you after our call.\"},\n",
       " {'speaker': 'Jamie',\n",
       "  'role': 'customer',\n",
       "  'message': \"Great, I'd love to see those. What are the next steps if we decide to move forward?\"},\n",
       " {'speaker': 'Alex',\n",
       "  'role': 'salesman',\n",
       "  'message': \"We can set up a follow-up meeting with our creative and marketing teams to discuss a customized strategy for your brand. We'll also provide you with a detailed proposal outlining our recommendations and potential costs.\"},\n",
       " {'speaker': 'Jamie',\n",
       "  'role': 'customer',\n",
       "  'message': \"Sounds good, Alex. Let's schedule that follow-up meeting.\"},\n",
       " {'speaker': 'Alex',\n",
       "  'role': 'salesman',\n",
       "  'message': \"Fantastic! I'll send you an email with available times for next week. Thank you for your time, Jamie. I look forward to working together to make your brand shine on TikTok!\"},\n",
       " {'speaker': 'Jamie',\n",
       "  'role': 'customer',\n",
       "  'message': \"Thank you, Alex. I'm excited to see what we can achieve together.\"}]"
      ]
     },
     "execution_count": 49,
     "metadata": {},
     "output_type": "execute_result"
    }
   ],
   "source": [
    "convos['convo1']"
   ]
  },
  {
   "cell_type": "code",
   "execution_count": 88,
   "metadata": {},
   "outputs": [
    {
     "name": "stdout",
     "output_type": "stream",
     "text": [
      "- customer (Customer): Can we schedule a follow-up meeting next week? | Action Phrase: schedule follow meeting next week next week\n",
      "- sales_rep (Sales Rep): Sure, I will send you an email with the details. | Action Phrase: send email with\n",
      "- customer (Customer): Great, let's set up a call and send proposal. | Action Phrase: set call\n"
     ]
    }
   ],
   "source": [
    "import spacy\n",
    "from spacy.matcher import Matcher\n",
    "\n",
    "# Load the SpaCy English model\n",
    "nlp = spacy.load(\"en_core_web_sm\")\n",
    "\n",
    "# Define follow-up keywords\n",
    "follow_up_keywords = [\"schedule\", \"follow\", \"set\", \"arrange\", \"send\", \"discuss\"]\n",
    "\n",
    "# Create a Matcher object\n",
    "matcher = Matcher(nlp.vocab)\n",
    "\n",
    "# Define patterns for the keywords\n",
    "pattern1 = [{'LOWER': 'schedule'}]\n",
    "pattern2 = [{'LOWER': 'follow'}]\n",
    "pattern3 = [{'LOWER': 'set'}]\n",
    "pattern4 = [{'LOWER': 'arrange'}]\n",
    "pattern5 = [{'LOWER': 'send'}]\n",
    "pattern6 = [{'LOWER': 'discuss'}]\n",
    "\n",
    "# Add patterns to the matcher\n",
    "matcher.add('FOLLOW_UP_KEYWORDS', [pattern1, pattern2, pattern3, pattern4, pattern5, pattern6], on_match=None)\n",
    "\n",
    "# Function to extract follow-up actions with chunks and temporal phrases\n",
    "def extract_follow_up_actions_with_chunks(convo):\n",
    "    follow_up_actions = []\n",
    "    for message in convo:\n",
    "        doc = nlp(message[\"message\"])\n",
    "        matches = matcher(doc)\n",
    "        named_entities = {ent.text for ent in doc.ents if ent.label_ in {\"PERSON\", \"ORG\"}}\n",
    "        \n",
    "        for match_id, start, end in matches:\n",
    "            token = doc[start]\n",
    "            action_phrase = {token.text}\n",
    "            \n",
    "            # Include direct objects, prepositional objects, and their modifiers\n",
    "            for child in token.children:\n",
    "                if child.dep_ in (\"dobj\", \"prep\", \"pobj\", \"advmod\", \"amod\", \"attr\", \"npadvmod\") and child.text not in named_entities:\n",
    "                    action_phrase.add(child.text)\n",
    "                    for grandchild in child.children:\n",
    "                        if grandchild.dep_ in (\"prep\", \"pobj\", \"advmod\", \"amod\", \"npadvmod\") and grandchild.text not in named_entities:\n",
    "                            action_phrase.add(grandchild.text)\n",
    "            \n",
    "            # Include temporal phrases\n",
    "            for ent in doc.ents:\n",
    "                if ent.label_ == \"DATE\":\n",
    "                    action_phrase.add(ent.text)\n",
    "\n",
    "            # Join the action phrase and exclude named entities\n",
    "            filtered_action_phrase = \" \".join(sorted(action_phrase, key=lambda x: doc.text.find(x)))\n",
    "            \n",
    "            follow_up_actions.append({\n",
    "                \"speaker\": message[\"speaker\"],\n",
    "                \"role\": message[\"role\"],\n",
    "                \"message\": message[\"message\"],\n",
    "                \"action_phrase\": filtered_action_phrase\n",
    "            })\n",
    "            break  # Stop checking further tokens once a match is found\n",
    "    return follow_up_actions\n",
    "\n",
    "# Example conversation\n",
    "convo = [\n",
    "    {\"speaker\": \"Customer\", \"role\": \"customer\", \"message\": \"Can we schedule a follow-up meeting next week?\"},\n",
    "    {\"speaker\": \"Sales Rep\", \"role\": \"sales_rep\", \"message\": \"Sure, I will send you an email with the details.\"},\n",
    "    {\"speaker\": \"Customer\", \"role\": \"customer\", \"message\": \"Great, let's set up a call and send proposal.\"}\n",
    "]\n",
    "\n",
    "# Extract follow-up actions with chunks\n",
    "follow_up_actions_with_chunks = extract_follow_up_actions_with_chunks(convo)\n",
    "\n",
    "# Print the extracted follow-up actions with chunks\n",
    "for action in follow_up_actions_with_chunks:\n",
    "    print(f\"- {action['role']} ({action['speaker']}): {action['message']} | Action Phrase: {action['action_phrase']}\")\n",
    "\n"
   ]
  }
 ],
 "metadata": {
  "kernelspec": {
   "display_name": "base",
   "language": "python",
   "name": "python3"
  },
  "language_info": {
   "codemirror_mode": {
    "name": "ipython",
    "version": 3
   },
   "file_extension": ".py",
   "mimetype": "text/x-python",
   "name": "python",
   "nbconvert_exporter": "python",
   "pygments_lexer": "ipython3",
   "version": "3.10.5"
  }
 },
 "nbformat": 4,
 "nbformat_minor": 2
}
